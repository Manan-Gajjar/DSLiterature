{
 "cells": [
  {
   "cell_type": "code",
   "execution_count": 55,
   "metadata": {},
   "outputs": [
    {
     "data": {
      "application/vnd.plotly.v1+json": {
       "config": {
        "plotlyServerURL": "https://plot.ly"
       },
       "data": [
        {
         "hovertemplate": "date=%{x}<br>price=%{y}<extra></extra>",
         "legendgroup": "",
         "line": {
          "color": "#636efa",
          "dash": "solid"
         },
         "marker": {
          "symbol": "circle"
         },
         "mode": "markers+lines",
         "name": "",
         "orientation": "v",
         "showlegend": false,
         "type": "scatter",
         "x": [
          "2023-01-01T00:00:00",
          "2023-01-02T00:00:00",
          "2023-01-03T00:00:00",
          "2023-01-04T00:00:00",
          "2023-01-05T00:00:00",
          "2023-01-06T00:00:00",
          "2023-01-07T00:00:00",
          "2023-01-08T00:00:00",
          "2023-01-09T00:00:00",
          "2023-01-10T00:00:00",
          "2023-01-11T00:00:00",
          "2023-01-12T00:00:00",
          "2023-01-13T00:00:00",
          "2023-01-14T00:00:00",
          "2023-01-15T00:00:00",
          "2023-01-16T00:00:00",
          "2023-01-17T00:00:00",
          "2023-01-18T00:00:00",
          "2023-01-19T00:00:00",
          "2023-01-20T00:00:00",
          "2023-01-21T00:00:00",
          "2023-01-22T00:00:00",
          "2023-01-23T00:00:00",
          "2023-01-24T00:00:00",
          "2023-01-25T00:00:00",
          "2023-01-26T00:00:00",
          "2023-01-27T00:00:00",
          "2023-01-28T00:00:00",
          "2023-01-29T00:00:00",
          "2023-01-30T00:00:00",
          "2023-01-31T00:00:00",
          "2023-02-01T00:00:00",
          "2023-02-02T00:00:00",
          "2023-02-03T00:00:00",
          "2023-02-04T00:00:00",
          "2023-02-05T00:00:00",
          "2023-02-06T00:00:00",
          "2023-02-07T00:00:00",
          "2023-02-08T00:00:00",
          "2023-02-09T00:00:00",
          "2023-02-10T00:00:00",
          "2023-02-11T00:00:00",
          "2023-02-12T00:00:00",
          "2023-02-13T00:00:00",
          "2023-02-14T00:00:00",
          "2023-02-15T00:00:00",
          "2023-02-16T00:00:00",
          "2023-02-17T00:00:00",
          "2023-02-18T00:00:00",
          "2023-02-19T00:00:00",
          "2023-02-20T00:00:00",
          "2023-02-21T00:00:00",
          "2023-02-22T00:00:00",
          "2023-02-23T00:00:00",
          "2023-02-24T00:00:00",
          "2023-02-25T00:00:00",
          "2023-02-26T00:00:00",
          "2023-02-27T00:00:00",
          "2023-02-28T00:00:00",
          "2023-03-01T00:00:00",
          "2023-03-02T00:00:00",
          "2023-03-03T00:00:00",
          "2023-03-04T00:00:00",
          "2023-03-05T00:00:00",
          "2023-03-06T00:00:00",
          "2023-03-07T00:00:00",
          "2023-03-08T00:00:00",
          "2023-03-09T00:00:00",
          "2023-03-10T00:00:00",
          "2023-03-11T00:00:00",
          "2023-03-12T00:00:00",
          "2023-03-13T00:00:00",
          "2023-03-14T00:00:00",
          "2023-03-15T00:00:00",
          "2023-03-16T00:00:00",
          "2023-03-17T00:00:00",
          "2023-03-18T00:00:00",
          "2023-03-19T00:00:00",
          "2023-03-20T00:00:00",
          "2023-03-21T00:00:00",
          "2023-03-22T00:00:00",
          "2023-03-23T00:00:00",
          "2023-03-24T00:00:00",
          "2023-03-25T00:00:00",
          "2023-03-26T00:00:00",
          "2023-03-27T00:00:00",
          "2023-03-28T00:00:00",
          "2023-03-29T00:00:00",
          "2023-03-30T00:00:00",
          "2023-03-31T00:00:00",
          "2023-04-01T00:00:00",
          "2023-04-02T00:00:00",
          "2023-04-03T00:00:00",
          "2023-04-04T00:00:00",
          "2023-04-05T00:00:00",
          "2023-04-06T00:00:00",
          "2023-04-07T00:00:00",
          "2023-04-08T00:00:00",
          "2023-04-09T00:00:00",
          "2023-04-10T00:00:00"
         ],
         "xaxis": "x",
         "y": [
          99.58818201768639,
          98.22416282614383,
          98.31837405063905,
          97.21592557438238,
          96.3330685554132,
          94.6581365488254,
          94.8539859531287,
          94.38281922356839,
          94.82971959528588,
          95.63860566100246,
          95.17416566072609,
          94.58203551001509,
          94.89040420754475,
          95.62613108283504,
          96.59130781613946,
          96.04063528119237,
          96.11360408088655,
          96.89498040365038,
          96.43889491245055,
          95.90310820211589,
          96.39454826113206,
          96.41392529126003,
          96.49650605355308,
          96.87654605881664,
          97.0978465158122,
          96.79891212654599,
          97.55011646257239,
          97.19560758101213,
          97.39861032513822,
          97.89142692612606,
          98.14410046906362,
          97.84474414917219,
          96.62074156552008,
          95.57554406096224,
          94.83698391818669,
          94.87649810984703,
          93.62315631525277,
          91.66306618108356,
          92.23147403684342,
          92.63025081878042,
          92.71463799790158,
          93.52179673520426,
          93.15940014980458,
          95.26364794613144,
          96.08514073772422,
          97.23881217913495,
          96.97333752533876,
          95.96115924372923,
          96.47663185260393,
          97.16843580750418,
          98.59073282272303,
          98.07874246290964,
          98.10242696563121,
          98.9812407741941,
          98.59232888458308,
          97.75067978770186,
          97.41922234241986,
          96.71328704698145,
          94.76093994945738,
          95.89249918072588,
          95.32475925081252,
          97.16527828158048,
          96.29474053571923,
          97.96952918169947,
          96.32549734775239,
          97.35737063350714,
          96.5366058509759,
          97.46738765497808,
          95.9325325400402,
          96.33695653810965,
          95.56760075139675,
          95.68994388127871,
          97.8427028691126,
          98.07932485583916,
          97.71698169140059,
          98.25071628740024,
          98.62177020229748,
          99.50083183274413,
          100.31194867929133,
          99.77585039610295,
          100.10148861204686,
          101.63559323165983,
          102.92266377349695,
          102.66145516279977,
          103.88186510811992,
          103.69200269011051,
          102.83180733930406,
          102.83137059701326,
          102.7561684458767,
          101.97774395406273,
          103.08950018444953,
          101.97389283529301,
          101.83784128137343,
          102.12741706968787,
          103.2296914776299,
          103.3868891449677,
          104.37113521191586,
          102.79649382850688,
          103.84994927699651,
          105.37003800638117
         ],
         "yaxis": "y"
        }
       ],
       "layout": {
        "legend": {
         "tracegroupgap": 0
        },
        "margin": {
         "t": 60
        },
        "template": {
         "data": {
          "bar": [
           {
            "error_x": {
             "color": "#2a3f5f"
            },
            "error_y": {
             "color": "#2a3f5f"
            },
            "marker": {
             "line": {
              "color": "#E5ECF6",
              "width": 0.5
             },
             "pattern": {
              "fillmode": "overlay",
              "size": 10,
              "solidity": 0.2
             }
            },
            "type": "bar"
           }
          ],
          "barpolar": [
           {
            "marker": {
             "line": {
              "color": "#E5ECF6",
              "width": 0.5
             },
             "pattern": {
              "fillmode": "overlay",
              "size": 10,
              "solidity": 0.2
             }
            },
            "type": "barpolar"
           }
          ],
          "carpet": [
           {
            "aaxis": {
             "endlinecolor": "#2a3f5f",
             "gridcolor": "white",
             "linecolor": "white",
             "minorgridcolor": "white",
             "startlinecolor": "#2a3f5f"
            },
            "baxis": {
             "endlinecolor": "#2a3f5f",
             "gridcolor": "white",
             "linecolor": "white",
             "minorgridcolor": "white",
             "startlinecolor": "#2a3f5f"
            },
            "type": "carpet"
           }
          ],
          "choropleth": [
           {
            "colorbar": {
             "outlinewidth": 0,
             "ticks": ""
            },
            "type": "choropleth"
           }
          ],
          "contour": [
           {
            "colorbar": {
             "outlinewidth": 0,
             "ticks": ""
            },
            "colorscale": [
             [
              0,
              "#0d0887"
             ],
             [
              0.1111111111111111,
              "#46039f"
             ],
             [
              0.2222222222222222,
              "#7201a8"
             ],
             [
              0.3333333333333333,
              "#9c179e"
             ],
             [
              0.4444444444444444,
              "#bd3786"
             ],
             [
              0.5555555555555556,
              "#d8576b"
             ],
             [
              0.6666666666666666,
              "#ed7953"
             ],
             [
              0.7777777777777778,
              "#fb9f3a"
             ],
             [
              0.8888888888888888,
              "#fdca26"
             ],
             [
              1,
              "#f0f921"
             ]
            ],
            "type": "contour"
           }
          ],
          "contourcarpet": [
           {
            "colorbar": {
             "outlinewidth": 0,
             "ticks": ""
            },
            "type": "contourcarpet"
           }
          ],
          "heatmap": [
           {
            "colorbar": {
             "outlinewidth": 0,
             "ticks": ""
            },
            "colorscale": [
             [
              0,
              "#0d0887"
             ],
             [
              0.1111111111111111,
              "#46039f"
             ],
             [
              0.2222222222222222,
              "#7201a8"
             ],
             [
              0.3333333333333333,
              "#9c179e"
             ],
             [
              0.4444444444444444,
              "#bd3786"
             ],
             [
              0.5555555555555556,
              "#d8576b"
             ],
             [
              0.6666666666666666,
              "#ed7953"
             ],
             [
              0.7777777777777778,
              "#fb9f3a"
             ],
             [
              0.8888888888888888,
              "#fdca26"
             ],
             [
              1,
              "#f0f921"
             ]
            ],
            "type": "heatmap"
           }
          ],
          "heatmapgl": [
           {
            "colorbar": {
             "outlinewidth": 0,
             "ticks": ""
            },
            "colorscale": [
             [
              0,
              "#0d0887"
             ],
             [
              0.1111111111111111,
              "#46039f"
             ],
             [
              0.2222222222222222,
              "#7201a8"
             ],
             [
              0.3333333333333333,
              "#9c179e"
             ],
             [
              0.4444444444444444,
              "#bd3786"
             ],
             [
              0.5555555555555556,
              "#d8576b"
             ],
             [
              0.6666666666666666,
              "#ed7953"
             ],
             [
              0.7777777777777778,
              "#fb9f3a"
             ],
             [
              0.8888888888888888,
              "#fdca26"
             ],
             [
              1,
              "#f0f921"
             ]
            ],
            "type": "heatmapgl"
           }
          ],
          "histogram": [
           {
            "marker": {
             "pattern": {
              "fillmode": "overlay",
              "size": 10,
              "solidity": 0.2
             }
            },
            "type": "histogram"
           }
          ],
          "histogram2d": [
           {
            "colorbar": {
             "outlinewidth": 0,
             "ticks": ""
            },
            "colorscale": [
             [
              0,
              "#0d0887"
             ],
             [
              0.1111111111111111,
              "#46039f"
             ],
             [
              0.2222222222222222,
              "#7201a8"
             ],
             [
              0.3333333333333333,
              "#9c179e"
             ],
             [
              0.4444444444444444,
              "#bd3786"
             ],
             [
              0.5555555555555556,
              "#d8576b"
             ],
             [
              0.6666666666666666,
              "#ed7953"
             ],
             [
              0.7777777777777778,
              "#fb9f3a"
             ],
             [
              0.8888888888888888,
              "#fdca26"
             ],
             [
              1,
              "#f0f921"
             ]
            ],
            "type": "histogram2d"
           }
          ],
          "histogram2dcontour": [
           {
            "colorbar": {
             "outlinewidth": 0,
             "ticks": ""
            },
            "colorscale": [
             [
              0,
              "#0d0887"
             ],
             [
              0.1111111111111111,
              "#46039f"
             ],
             [
              0.2222222222222222,
              "#7201a8"
             ],
             [
              0.3333333333333333,
              "#9c179e"
             ],
             [
              0.4444444444444444,
              "#bd3786"
             ],
             [
              0.5555555555555556,
              "#d8576b"
             ],
             [
              0.6666666666666666,
              "#ed7953"
             ],
             [
              0.7777777777777778,
              "#fb9f3a"
             ],
             [
              0.8888888888888888,
              "#fdca26"
             ],
             [
              1,
              "#f0f921"
             ]
            ],
            "type": "histogram2dcontour"
           }
          ],
          "mesh3d": [
           {
            "colorbar": {
             "outlinewidth": 0,
             "ticks": ""
            },
            "type": "mesh3d"
           }
          ],
          "parcoords": [
           {
            "line": {
             "colorbar": {
              "outlinewidth": 0,
              "ticks": ""
             }
            },
            "type": "parcoords"
           }
          ],
          "pie": [
           {
            "automargin": true,
            "type": "pie"
           }
          ],
          "scatter": [
           {
            "fillpattern": {
             "fillmode": "overlay",
             "size": 10,
             "solidity": 0.2
            },
            "type": "scatter"
           }
          ],
          "scatter3d": [
           {
            "line": {
             "colorbar": {
              "outlinewidth": 0,
              "ticks": ""
             }
            },
            "marker": {
             "colorbar": {
              "outlinewidth": 0,
              "ticks": ""
             }
            },
            "type": "scatter3d"
           }
          ],
          "scattercarpet": [
           {
            "marker": {
             "colorbar": {
              "outlinewidth": 0,
              "ticks": ""
             }
            },
            "type": "scattercarpet"
           }
          ],
          "scattergeo": [
           {
            "marker": {
             "colorbar": {
              "outlinewidth": 0,
              "ticks": ""
             }
            },
            "type": "scattergeo"
           }
          ],
          "scattergl": [
           {
            "marker": {
             "colorbar": {
              "outlinewidth": 0,
              "ticks": ""
             }
            },
            "type": "scattergl"
           }
          ],
          "scattermapbox": [
           {
            "marker": {
             "colorbar": {
              "outlinewidth": 0,
              "ticks": ""
             }
            },
            "type": "scattermapbox"
           }
          ],
          "scatterpolar": [
           {
            "marker": {
             "colorbar": {
              "outlinewidth": 0,
              "ticks": ""
             }
            },
            "type": "scatterpolar"
           }
          ],
          "scatterpolargl": [
           {
            "marker": {
             "colorbar": {
              "outlinewidth": 0,
              "ticks": ""
             }
            },
            "type": "scatterpolargl"
           }
          ],
          "scatterternary": [
           {
            "marker": {
             "colorbar": {
              "outlinewidth": 0,
              "ticks": ""
             }
            },
            "type": "scatterternary"
           }
          ],
          "surface": [
           {
            "colorbar": {
             "outlinewidth": 0,
             "ticks": ""
            },
            "colorscale": [
             [
              0,
              "#0d0887"
             ],
             [
              0.1111111111111111,
              "#46039f"
             ],
             [
              0.2222222222222222,
              "#7201a8"
             ],
             [
              0.3333333333333333,
              "#9c179e"
             ],
             [
              0.4444444444444444,
              "#bd3786"
             ],
             [
              0.5555555555555556,
              "#d8576b"
             ],
             [
              0.6666666666666666,
              "#ed7953"
             ],
             [
              0.7777777777777778,
              "#fb9f3a"
             ],
             [
              0.8888888888888888,
              "#fdca26"
             ],
             [
              1,
              "#f0f921"
             ]
            ],
            "type": "surface"
           }
          ],
          "table": [
           {
            "cells": {
             "fill": {
              "color": "#EBF0F8"
             },
             "line": {
              "color": "white"
             }
            },
            "header": {
             "fill": {
              "color": "#C8D4E3"
             },
             "line": {
              "color": "white"
             }
            },
            "type": "table"
           }
          ]
         },
         "layout": {
          "annotationdefaults": {
           "arrowcolor": "#2a3f5f",
           "arrowhead": 0,
           "arrowwidth": 1
          },
          "autotypenumbers": "strict",
          "coloraxis": {
           "colorbar": {
            "outlinewidth": 0,
            "ticks": ""
           }
          },
          "colorscale": {
           "diverging": [
            [
             0,
             "#8e0152"
            ],
            [
             0.1,
             "#c51b7d"
            ],
            [
             0.2,
             "#de77ae"
            ],
            [
             0.3,
             "#f1b6da"
            ],
            [
             0.4,
             "#fde0ef"
            ],
            [
             0.5,
             "#f7f7f7"
            ],
            [
             0.6,
             "#e6f5d0"
            ],
            [
             0.7,
             "#b8e186"
            ],
            [
             0.8,
             "#7fbc41"
            ],
            [
             0.9,
             "#4d9221"
            ],
            [
             1,
             "#276419"
            ]
           ],
           "sequential": [
            [
             0,
             "#0d0887"
            ],
            [
             0.1111111111111111,
             "#46039f"
            ],
            [
             0.2222222222222222,
             "#7201a8"
            ],
            [
             0.3333333333333333,
             "#9c179e"
            ],
            [
             0.4444444444444444,
             "#bd3786"
            ],
            [
             0.5555555555555556,
             "#d8576b"
            ],
            [
             0.6666666666666666,
             "#ed7953"
            ],
            [
             0.7777777777777778,
             "#fb9f3a"
            ],
            [
             0.8888888888888888,
             "#fdca26"
            ],
            [
             1,
             "#f0f921"
            ]
           ],
           "sequentialminus": [
            [
             0,
             "#0d0887"
            ],
            [
             0.1111111111111111,
             "#46039f"
            ],
            [
             0.2222222222222222,
             "#7201a8"
            ],
            [
             0.3333333333333333,
             "#9c179e"
            ],
            [
             0.4444444444444444,
             "#bd3786"
            ],
            [
             0.5555555555555556,
             "#d8576b"
            ],
            [
             0.6666666666666666,
             "#ed7953"
            ],
            [
             0.7777777777777778,
             "#fb9f3a"
            ],
            [
             0.8888888888888888,
             "#fdca26"
            ],
            [
             1,
             "#f0f921"
            ]
           ]
          },
          "colorway": [
           "#636efa",
           "#EF553B",
           "#00cc96",
           "#ab63fa",
           "#FFA15A",
           "#19d3f3",
           "#FF6692",
           "#B6E880",
           "#FF97FF",
           "#FECB52"
          ],
          "font": {
           "color": "#2a3f5f"
          },
          "geo": {
           "bgcolor": "white",
           "lakecolor": "white",
           "landcolor": "#E5ECF6",
           "showlakes": true,
           "showland": true,
           "subunitcolor": "white"
          },
          "hoverlabel": {
           "align": "left"
          },
          "hovermode": "closest",
          "mapbox": {
           "style": "light"
          },
          "paper_bgcolor": "white",
          "plot_bgcolor": "#E5ECF6",
          "polar": {
           "angularaxis": {
            "gridcolor": "white",
            "linecolor": "white",
            "ticks": ""
           },
           "bgcolor": "#E5ECF6",
           "radialaxis": {
            "gridcolor": "white",
            "linecolor": "white",
            "ticks": ""
           }
          },
          "scene": {
           "xaxis": {
            "backgroundcolor": "#E5ECF6",
            "gridcolor": "white",
            "gridwidth": 2,
            "linecolor": "white",
            "showbackground": true,
            "ticks": "",
            "zerolinecolor": "white"
           },
           "yaxis": {
            "backgroundcolor": "#E5ECF6",
            "gridcolor": "white",
            "gridwidth": 2,
            "linecolor": "white",
            "showbackground": true,
            "ticks": "",
            "zerolinecolor": "white"
           },
           "zaxis": {
            "backgroundcolor": "#E5ECF6",
            "gridcolor": "white",
            "gridwidth": 2,
            "linecolor": "white",
            "showbackground": true,
            "ticks": "",
            "zerolinecolor": "white"
           }
          },
          "shapedefaults": {
           "line": {
            "color": "#2a3f5f"
           }
          },
          "ternary": {
           "aaxis": {
            "gridcolor": "white",
            "linecolor": "white",
            "ticks": ""
           },
           "baxis": {
            "gridcolor": "white",
            "linecolor": "white",
            "ticks": ""
           },
           "bgcolor": "#E5ECF6",
           "caxis": {
            "gridcolor": "white",
            "linecolor": "white",
            "ticks": ""
           }
          },
          "title": {
           "x": 0.05
          },
          "xaxis": {
           "automargin": true,
           "gridcolor": "white",
           "linecolor": "white",
           "ticks": "",
           "title": {
            "standoff": 15
           },
           "zerolinecolor": "white",
           "zerolinewidth": 2
          },
          "yaxis": {
           "automargin": true,
           "gridcolor": "white",
           "linecolor": "white",
           "ticks": "",
           "title": {
            "standoff": 15
           },
           "zerolinecolor": "white",
           "zerolinewidth": 2
          }
         }
        },
        "xaxis": {
         "anchor": "y",
         "domain": [
          0,
          1
         ],
         "title": {
          "text": "date"
         }
        },
        "yaxis": {
         "anchor": "x",
         "domain": [
          0,
          1
         ],
         "title": {
          "text": "price"
         }
        }
       }
      }
     },
     "metadata": {},
     "output_type": "display_data"
    }
   ],
   "source": [
    "import numpy as np\n",
    "import pandas as pd\n",
    "\n",
    "from prophet import Prophet\n",
    "import plotly.express as px\n",
    "\n",
    "rng = np.random.default_rng(seed=41)\n",
    "\n",
    "# Parameters\n",
    "num_days = 100\n",
    "initial_price = 100.0\n",
    "volatility = 0.01  # Daily volatility\n",
    "\n",
    "# Generate random daily returns\n",
    "daily_returns = np.random.normal(loc=0, scale=volatility, size=num_days)\n",
    "\n",
    "# Calculate the cumulative sum of returns to get the price\n",
    "price = initial_price * np.exp(np.cumsum(daily_returns))\n",
    "\n",
    "data = pd.DataFrame(\n",
    "    {\"date\": pd.date_range(start=\"01-01-2023\", periods=len(price)), \"price\": price}\n",
    ")\n",
    "\n",
    "px.line(data_frame=data, x=\"date\", y=\"price\", markers=\"*\")"
   ]
  },
  {
   "cell_type": "code",
   "execution_count": 49,
   "metadata": {},
   "outputs": [
    {
     "name": "stderr",
     "output_type": "stream",
     "text": [
      "20:24:28 - cmdstanpy - INFO - Chain [1] start processing\n",
      "20:24:28 - cmdstanpy - INFO - Chain [1] done processing\n"
     ]
    },
    {
     "data": {
      "text/plain": [
       "<prophet.forecaster.Prophet at 0x2d40e7c7520>"
      ]
     },
     "execution_count": 49,
     "metadata": {},
     "output_type": "execute_result"
    }
   ],
   "source": [
    "# Python\n",
    "m = Prophet()\n",
    "m.fit(data.rename(columns={'date':'ds','price':'y'}))"
   ]
  },
  {
   "cell_type": "code",
   "execution_count": 50,
   "metadata": {},
   "outputs": [
    {
     "data": {
      "image/png": "[encoded data removed]",
      "text/plain": [
       "<Figure size 1000x400 with 1 Axes>"
      ]
     },
     "metadata": {},
     "output_type": "display_data"
    }
   ],
   "source": [
    "future = m.make_future_dataframe(periods=10)\n",
    "forecast = m.predict(future)\n",
    "\n",
    "fig = m.plot(forecast, figsize=(10, 4))"
   ]
  },
  {
   "cell_type": "code",
   "execution_count": 77,
   "metadata": {},
   "outputs": [],
   "source": [
    "import yfinance as yf\n",
    "\n",
    "ril = yf.Ticker(\"RELIANCE.NS\")\n",
    "ril_data = ril.history(period='48mo')\n",
    "ril_data = ril_data.reset_index().rename(columns={'Date':'ds', 'Close':'y'})\n",
    "ril_data['ds'] = ril_data['ds'].dt.tz_localize(None)"
   ]
  },
  {
   "cell_type": "code",
   "execution_count": 78,
   "metadata": {},
   "outputs": [
    {
     "data": {
      "application/vnd.plotly.v1+json": {
       "config": {
        "plotlyServerURL": "https://plot.ly"
       },
       "data": [
        {
         "hovertemplate": "ds=%{x}<br>y=%{y}<extra></extra>",
         "legendgroup": "",
         "line": {
          "color": "#636efa",
          "dash": "solid"
         },
         "marker": {
          "symbol": "circle"
         },
         "mode": "markers+lines",
         "name": "",
         "orientation": "v",
         "showlegend": false,
         "type": "scatter",
         "x": [
          "2019-10-14T00:00:00",
          "2019-10-15T00:00:00",
          "2019-10-16T00:00:00",
          "2019-10-17T00:00:00",
          "2019-10-18T00:00:00",
          "2019-10-22T00:00:00",
          "2019-10-23T00:00:00",
          "2019-10-24T00:00:00",
          "2019-10-25T00:00:00",
          "2019-10-27T00:00:00",
          "2019-10-29T00:00:00",
          "2019-10-30T00:00:00",
          "2019-10-31T00:00:00",
          "2019-11-01T00:00:00",
          "2019-11-04T00:00:00",
          "2019-11-05T00:00:00",
          "2019-11-06T00:00:00",
          "2019-11-07T00:00:00",
          "2019-11-08T00:00:00",
          "2019-11-11T00:00:00",
          "2019-11-13T00:00:00",
          "2019-11-14T00:00:00",
          "2019-11-15T00:00:00",
          "2019-11-18T00:00:00",
          "2019-11-19T00:00:00",
          "2019-11-20T00:00:00",
          "2019-11-21T00:00:00",
          "2019-11-22T00:00:00",
          "2019-11-25T00:00:00",
          "2019-11-26T00:00:00",
          "2019-11-27T00:00:00",
          "2019-11-28T00:00:00",
          "2019-11-29T00:00:00",
          "2019-12-02T00:00:00",
          "2019-12-03T00:00:00",
          "2019-12-04T00:00:00",
          "2019-12-05T00:00:00",
          "2019-12-06T00:00:00",
          "2019-12-09T00:00:00",
          "2019-12-10T00:00:00",
          "2019-12-11T00:00:00",
          "2019-12-12T00:00:00",
          "2019-12-13T00:00:00",
          "2019-12-16T00:00:00",
          "2019-12-17T00:00:00",
          "2019-12-18T00:00:00",
          "2019-12-19T00:00:00",
          "2019-12-20T00:00:00",
          "2019-12-23T00:00:00",
          "2019-12-24T00:00:00",
          "2019-12-26T00:00:00",
          "2019-12-27T00:00:00",
          "2019-12-30T00:00:00",
          "2019-12-31T00:00:00",
          "2020-01-01T00:00:00",
          "2020-01-02T00:00:00",
          "2020-01-03T00:00:00",
          "2020-01-06T00:00:00",
          "2020-01-07T00:00:00",
          "2020-01-08T00:00:00",
          "2020-01-09T00:00:00",
          "2020-01-10T00:00:00",
          "2020-01-13T00:00:00",
          "2020-01-14T00:00:00",
          "2020-01-15T00:00:00",
          "2020-01-16T00:00:00",
          "2020-01-17T00:00:00",
          "2020-01-20T00:00:00",
          "2020-01-21T00:00:00",
          "2020-01-22T00:00:00",
          "2020-01-23T00:00:00",
          "2020-01-24T00:00:00",
          "2020-01-27T00:00:00",
          "2020-01-28T00:00:00",
          "2020-01-29T00:00:00",
          "2020-01-30T00:00:00",
          "2020-01-31T00:00:00",
          "2020-02-03T00:00:00",
          "2020-02-04T00:00:00",
          "2020-02-05T00:00:00",
          "2020-02-06T00:00:00",
          "2020-02-07T00:00:00",
          "2020-02-10T00:00:00",
          "2020-02-11T00:00:00",
          "2020-02-12T00:00:00",
          "2020-02-13T00:00:00",
          "2020-02-14T00:00:00",
          "2020-02-17T00:00:00",
          "2020-02-18T00:00:00",
          "2020-02-19T00:00:00",
          "2020-02-20T00:00:00",
          "2020-02-24T00:00:00",
          "2020-02-25T00:00:00",
          "2020-02-26T00:00:00",
          "2020-02-27T00:00:00",
          "2020-02-28T00:00:00",
          "2020-03-02T00:00:00",
          "2020-03-03T00:00:00",
          "2020-03-04T00:00:00",
          "2020-03-05T00:00:00",
          "2020-03-06T00:00:00",
          "2020-03-09T00:00:00",
          "2020-03-11T00:00:00",
          "2020-03-12T00:00:00",
          "2020-03-13T00:00:00",
          "2020-03-16T00:00:00",
          "2020-03-17T00:00:00",
          "2020-03-18T00:00:00",
          "2020-03-19T00:00:00",
          "2020-03-20T00:00:00",
          "2020-03-23T00:00:00",
          "2020-03-24T00:00:00",
          "2020-03-25T00:00:00",
          "2020-03-26T00:00:00",
          "2020-03-27T00:00:00",
          "2020-03-30T00:00:00",
          "2020-03-31T00:00:00",
          "2020-04-01T00:00:00",
          "2020-04-03T00:00:00",
          "2020-04-07T00:00:00",
          "2020-04-08T00:00:00",
          "2020-04-09T00:00:00",
          "2020-04-13T00:00:00",
          "2020-04-15T00:00:00",
          "2020-04-16T00:00:00",
          "2020-04-17T00:00:00",
          "2020-04-20T00:00:00",
          "2020-04-21T00:00:00",
          "2020-04-22T00:00:00",
          "2020-04-23T00:00:00",
          "2020-04-24T00:00:00",
          "2020-04-27T00:00:00",
          "2020-04-28T00:00:00",
          "2020-04-29T00:00:00",
          "2020-04-30T00:00:00",
          "2020-05-04T00:00:00",
          "2020-05-05T00:00:00",
          "2020-05-06T00:00:00",
          "2020-05-07T00:00:00",
          "2020-05-08T00:00:00",
          "2020-05-11T00:00:00",
          "2020-05-12T00:00:00",
          "2020-05-13T00:00:00",
          "2020-05-14T00:00:00",
          "2020-05-15T00:00:00",
          "2020-05-18T00:00:00",
          "2020-05-19T00:00:00",
          "2020-05-20T00:00:00",
          "2020-05-21T00:00:00",
          "2020-05-22T00:00:00",
          "2020-05-26T00:00:00",
          "2020-05-27T00:00:00",
          "2020-05-28T00:00:00",
          "2020-05-29T00:00:00",
          "2020-06-01T00:00:00",
          "2020-06-02T00:00:00",
          "2020-06-03T00:00:00",
          "2020-06-04T00:00:00",
          "2020-06-05T00:00:00",
          "2020-06-08T00:00:00",
          "2020-06-09T00:00:00",
          "2020-06-10T00:00:00",
          "2020-06-11T00:00:00",
          "2020-06-12T00:00:00",
          "2020-06-15T00:00:00",
          "2020-06-16T00:00:00",
          "2020-06-17T00:00:00",
          "2020-06-18T00:00:00",
          "2020-06-19T00:00:00",
          "2020-06-22T00:00:00",
          "2020-06-23T00:00:00",
          "2020-06-24T00:00:00",
          "2020-06-25T00:00:00",
          "2020-06-26T00:00:00",
          "2020-06-29T00:00:00",
          "2020-06-30T00:00:00",
          "2020-07-01T00:00:00",
          "2020-07-02T00:00:00",
          "2020-07-03T00:00:00",
          "2020-07-06T00:00:00",
          "2020-07-07T00:00:00",
          "2020-07-08T00:00:00",
          "2020-07-09T00:00:00",
          "2020-07-10T00:00:00",
          "2020-07-13T00:00:00",
          "2020-07-14T00:00:00",
          "2020-07-15T00:00:00",
          "2020-07-16T00:00:00",
          "2020-07-17T00:00:00",
          "2020-07-20T00:00:00",
          "2020-07-21T00:00:00",
          "2020-07-22T00:00:00",
          "2020-07-23T00:00:00",
          "2020-07-24T00:00:00",
          "2020-07-27T00:00:00",
          "2020-07-28T00:00:00",
          "2020-07-29T00:00:00",
          "2020-07-30T00:00:00",
          "2020-07-31T00:00:00",
          "2020-08-03T00:00:00",
          "2020-08-04T00:00:00",
          "2020-08-05T00:00:00",
          "2020-08-06T00:00:00",
          "2020-08-07T00:00:00",
          "2020-08-10T00:00:00",
          "2020-08-11T00:00:00",
          "2020-08-12T00:00:00",
          "2020-08-13T00:00:00",
          "2020-08-14T00:00:00",
          "2020-08-17T00:00:00",
          "2020-08-18T00:00:00",
          "2020-08-19T00:00:00",
          "2020-08-20T00:00:00",
          "2020-08-21T00:00:00",
          "2020-08-24T00:00:00",
          "2020-08-25T00:00:00",
          "2020-08-26T00:00:00",
          "2020-08-27T00:00:00",
          "2020-08-28T00:00:00",
          "2020-08-31T00:00:00",
          "2020-09-01T00:00:00",
          "2020-09-02T00:00:00",
          "2020-09-03T00:00:00",
          "2020-09-04T00:00:00",
          "2020-09-07T00:00:00",
          "2020-09-08T00:00:00",
          "2020-09-09T00:00:00",
          "2020-09-10T00:00:00",
          "2020-09-11T00:00:00",
          "2020-09-14T00:00:00",
          "2020-09-15T00:00:00",
          "2020-09-16T00:00:00",
          "2020-09-17T00:00:00",
          "2020-09-18T00:00:00",
          "2020-09-21T00:00:00",
          "2020-09-22T00:00:00",
          "2020-09-23T00:00:00",
          "2020-09-24T00:00:00",
          "2020-09-25T00:00:00",
          "2020-09-28T00:00:00",
          "2020-09-29T00:00:00",
          "2020-09-30T00:00:00",
          "2020-10-01T00:00:00",
          "2020-10-05T00:00:00",
          "2020-10-06T00:00:00",
          "2020-10-07T00:00:00",
          "2020-10-08T00:00:00",
          "2020-10-09T00:00:00",
          "2020-10-12T00:00:00",
          "2020-10-13T00:00:00",
          "2020-10-14T00:00:00",
          "2020-10-15T00:00:00",
          "2020-10-16T00:00:00",
          "2020-10-19T00:00:00",
          "2020-10-20T00:00:00",
          "2020-10-21T00:00:00",
          "2020-10-22T00:00:00",
          "2020-10-23T00:00:00",
          "2020-10-26T00:00:00",
          "2020-10-27T00:00:00",
          "2020-10-28T00:00:00",
          "2020-10-29T00:00:00",
          "2020-10-30T00:00:00",
          "2020-11-02T00:00:00",
          "2020-11-03T00:00:00",
          "2020-11-04T00:00:00",
          "2020-11-05T00:00:00",
          "2020-11-06T00:00:00",
          "2020-11-09T00:00:00",
          "2020-11-10T00:00:00",
          "2020-11-11T00:00:00",
          "2020-11-12T00:00:00",
          "2020-11-13T00:00:00",
          "2020-11-14T00:00:00",
          "2020-11-17T00:00:00",
          "2020-11-18T00:00:00",
          "2020-11-19T00:00:00",
          "2020-11-20T00:00:00",
          "2020-11-23T00:00:00",
          "2020-11-24T00:00:00",
          "2020-11-25T00:00:00",
          "2020-11-26T00:00:00",
          "2020-11-27T00:00:00",
          "2020-12-01T00:00:00",
          "2020-12-02T00:00:00",
          "2020-12-03T00:00:00",
          "2020-12-04T00:00:00",
          "2020-12-07T00:00:00",
          "2020-12-08T00:00:00",
          "2020-12-09T00:00:00",
          "2020-12-10T00:00:00",
          "2020-12-11T00:00:00",
          "2020-12-14T00:00:00",
          "2020-12-15T00:00:00",
          "2020-12-16T00:00:00",
          "2020-12-17T00:00:00",
          "2020-12-18T00:00:00",
          "2020-12-21T00:00:00",
          "2020-12-22T00:00:00",
          "2020-12-23T00:00:00",
          "2020-12-24T00:00:00",
          "2020-12-28T00:00:00",
          "2020-12-29T00:00:00",
          "2020-12-30T00:00:00",
          "2020-12-31T00:00:00",
          "2021-01-01T00:00:00",
          "2021-01-04T00:00:00",
          "2021-01-05T00:00:00",
          "2021-01-06T00:00:00",
          "2021-01-07T00:00:00",
          "2021-01-08T00:00:00",
          "2021-01-11T00:00:00",
          "2021-01-12T00:00:00",
          "2021-01-13T00:00:00",
          "2021-01-14T00:00:00",
          "2021-01-15T00:00:00",
          "2021-01-18T00:00:00",
          "2021-01-19T00:00:00",
          "2021-01-20T00:00:00",
          "2021-01-21T00:00:00",
          "2021-01-22T00:00:00",
          "2021-01-25T00:00:00",
          "2021-01-27T00:00:00",
          "2021-01-28T00:00:00",
          "2021-01-29T00:00:00",
          "2021-02-01T00:00:00",
          "2021-02-02T00:00:00",
          "2021-02-03T00:00:00",
          "2021-02-04T00:00:00",
          "2021-02-05T00:00:00",
          "2021-02-08T00:00:00",
          "2021-02-09T00:00:00",
          "2021-02-10T00:00:00",
          "2021-02-11T00:00:00",
          "2021-02-12T00:00:00",
          "2021-02-15T00:00:00",
          "2021-02-16T00:00:00",
          "2021-02-17T00:00:00",
          "2021-02-18T00:00:00",
          "2021-02-19T00:00:00",
          "2021-02-22T00:00:00",
          "2021-02-23T00:00:00",
          "2021-02-24T00:00:00",
          "2021-02-25T00:00:00",
          "2021-02-26T00:00:00",
          "2021-03-01T00:00:00",
          "2021-03-02T00:00:00",
          "2021-03-03T00:00:00",
          "2021-03-04T00:00:00",
          "2021-03-05T00:00:00",
          "2021-03-08T00:00:00",
          "2021-03-09T00:00:00",
          "2021-03-10T00:00:00",
          "2021-03-12T00:00:00",
          "2021-03-15T00:00:00",
          "2021-03-16T00:00:00",
          "2021-03-17T00:00:00",
          "2021-03-18T00:00:00",
          "2021-03-19T00:00:00",
          "2021-03-22T00:00:00",
          "2021-03-23T00:00:00",
          "2021-03-24T00:00:00",
          "2021-03-25T00:00:00",
          "2021-03-26T00:00:00",
          "2021-03-30T00:00:00",
          "2021-03-31T00:00:00",
          "2021-04-01T00:00:00",
          "2021-04-05T00:00:00",
          "2021-04-06T00:00:00",
          "2021-04-07T00:00:00",
          "2021-04-08T00:00:00",
          "2021-04-09T00:00:00",
          "2021-04-12T00:00:00",
          "2021-04-13T00:00:00",
          "2021-04-15T00:00:00",
          "2021-04-16T00:00:00",
          "2021-04-19T00:00:00",
          "2021-04-20T00:00:00",
          "2021-04-22T00:00:00",
          "2021-04-23T00:00:00",
          "2021-04-26T00:00:00",
          "2021-04-27T00:00:00",
          "2021-04-28T00:00:00",
          "2021-04-29T00:00:00",
          "2021-04-30T00:00:00",
          "2021-05-03T00:00:00",
          "2021-05-04T00:00:00",
          "2021-05-05T00:00:00",
          "2021-05-06T00:00:00",
          "2021-05-07T00:00:00",
          "2021-05-10T00:00:00",
          "2021-05-11T00:00:00",
          "2021-05-12T00:00:00",
          "2021-05-14T00:00:00",
          "2021-05-17T00:00:00",
          "2021-05-18T00:00:00",
          "2021-05-19T00:00:00",
          "2021-05-20T00:00:00",
          "2021-05-21T00:00:00",
          "2021-05-24T00:00:00",
          "2021-05-25T00:00:00",
          "2021-05-26T00:00:00",
          "2021-05-27T00:00:00",
          "2021-05-28T00:00:00",
          "2021-05-31T00:00:00",
          "2021-06-01T00:00:00",
          "2021-06-02T00:00:00",
          "2021-06-03T00:00:00",
          "2021-06-04T00:00:00",
          "2021-06-07T00:00:00",
          "2021-06-08T00:00:00",
          "2021-06-09T00:00:00",
          "2021-06-10T00:00:00",
          "2021-06-11T00:00:00",
          "2021-06-14T00:00:00",
          "2021-06-15T00:00:00",
          "2021-06-16T00:00:00",
          "2021-06-17T00:00:00",
          "2021-06-18T00:00:00",
          "2021-06-21T00:00:00",
          "2021-06-22T00:00:00",
          "2021-06-23T00:00:00",
          "2021-06-24T00:00:00",
          "2021-06-25T00:00:00",
          "2021-06-28T00:00:00",
          "2021-06-29T00:00:00",
          "2021-06-30T00:00:00",
          "2021-07-01T00:00:00",
          "2021-07-02T00:00:00",
          "2021-07-05T00:00:00",
          "2021-07-06T00:00:00",
          "2021-07-07T00:00:00",
          "2021-07-08T00:00:00",
          "2021-07-09T00:00:00",
          "2021-07-12T00:00:00",
          "2021-07-13T00:00:00",
          "2021-07-14T00:00:00",
          "2021-07-15T00:00:00",
          "2021-07-16T00:00:00",
          "2021-07-19T00:00:00",
          "2021-07-20T00:00:00",
          "2021-07-22T00:00:00",
          "2021-07-23T00:00:00",
          "2021-07-26T00:00:00",
          "2021-07-27T00:00:00",
          "2021-07-28T00:00:00",
          "2021-07-29T00:00:00",
          "2021-07-30T00:00:00",
          "2021-08-02T00:00:00",
          "2021-08-03T00:00:00",
          "2021-08-04T00:00:00",
          "2021-08-05T00:00:00",
          "2021-08-06T00:00:00",
          "2021-08-09T00:00:00",
          "2021-08-10T00:00:00",
          "2021-08-11T00:00:00",
          "2021-08-12T00:00:00",
          "2021-08-13T00:00:00",
          "2021-08-16T00:00:00",
          "2021-08-17T00:00:00",
          "2021-08-18T00:00:00",
          "2021-08-20T00:00:00",
          "2021-08-23T00:00:00",
          "2021-08-24T00:00:00",
          "2021-08-25T00:00:00",
          "2021-08-26T00:00:00",
          "2021-08-27T00:00:00",
          "2021-08-30T00:00:00",
          "2021-08-31T00:00:00",
          "2021-09-01T00:00:00",
          "2021-09-02T00:00:00",
          "2021-09-03T00:00:00",
          "2021-09-06T00:00:00",
          "2021-09-07T00:00:00",
          "2021-09-08T00:00:00",
          "2021-09-09T00:00:00",
          "2021-09-13T00:00:00",
          "2021-09-14T00:00:00",
          "2021-09-15T00:00:00",
          "2021-09-16T00:00:00",
          "2021-09-17T00:00:00",
          "2021-09-20T00:00:00",
          "2021-09-21T00:00:00",
          "2021-09-22T00:00:00",
          "2021-09-23T00:00:00",
          "2021-09-24T00:00:00",
          "2021-09-27T00:00:00",
          "2021-09-28T00:00:00",
          "2021-09-29T00:00:00",
          "2021-09-30T00:00:00",
          "2021-10-01T00:00:00",
          "2021-10-04T00:00:00",
          "2021-10-05T00:00:00",
          "2021-10-06T00:00:00",
          "2021-10-07T00:00:00",
          "2021-10-08T00:00:00",
          "2021-10-11T00:00:00",
          "2021-10-12T00:00:00",
          "2021-10-13T00:00:00",
          "2021-10-14T00:00:00",
          "2021-10-18T00:00:00",
          "2021-10-19T00:00:00",
          "2021-10-20T00:00:00",
          "2021-10-21T00:00:00",
          "2021-10-22T00:00:00",
          "2021-10-25T00:00:00",
          "2021-10-26T00:00:00",
          "2021-10-27T00:00:00",
          "2021-10-28T00:00:00",
          "2021-10-29T00:00:00",
          "2021-11-01T00:00:00",
          "2021-11-02T00:00:00",
          "2021-11-03T00:00:00",
          "2021-11-04T00:00:00",
          "2021-11-08T00:00:00",
          "2021-11-09T00:00:00",
          "2021-11-10T00:00:00",
          "2021-11-11T00:00:00",
          "2021-11-12T00:00:00",
          "2021-11-15T00:00:00",
          "2021-11-16T00:00:00",
          "2021-11-17T00:00:00",
          "2021-11-18T00:00:00",
          "2021-11-22T00:00:00",
          "2021-11-23T00:00:00",
          "2021-11-24T00:00:00",
          "2021-11-25T00:00:00",
          "2021-11-26T00:00:00",
          "2021-11-29T00:00:00",
          "2021-11-30T00:00:00",
          "2021-12-01T00:00:00",
          "2021-12-02T00:00:00",
          "2021-12-03T00:00:00",
          "2021-12-06T00:00:00",
          "2021-12-07T00:00:00",
          "2021-12-08T00:00:00",
          "2021-12-09T00:00:00",
          "2021-12-10T00:00:00",
          "2021-12-13T00:00:00",
          "2021-12-14T00:00:00",
          "2021-12-15T00:00:00",
          "2021-12-16T00:00:00",
          "2021-12-17T00:00:00",
          "2021-12-20T00:00:00",
          "2021-12-21T00:00:00",
          "2021-12-22T00:00:00",
          "2021-12-23T00:00:00",
          "2021-12-24T00:00:00",
          "2021-12-27T00:00:00",
          "2021-12-28T00:00:00",
          "2021-12-29T00:00:00",
          "2021-12-30T00:00:00",
          "2021-12-31T00:00:00",
          "2022-01-03T00:00:00",
          "2022-01-04T00:00:00",
          "2022-01-05T00:00:00",
          "2022-01-06T00:00:00",
          "2022-01-07T00:00:00",
          "2022-01-10T00:00:00",
          "2022-01-11T00:00:00",
          "2022-01-12T00:00:00",
          "2022-01-13T00:00:00",
          "2022-01-14T00:00:00",
          "2022-01-17T00:00:00",
          "2022-01-18T00:00:00",
          "2022-01-19T00:00:00",
          "2022-01-20T00:00:00",
          "2022-01-21T00:00:00",
          "2022-01-24T00:00:00",
          "2022-01-25T00:00:00",
          "2022-01-27T00:00:00",
          "2022-01-28T00:00:00",
          "2022-01-31T00:00:00",
          "2022-02-01T00:00:00",
          "2022-02-02T00:00:00",
          "2022-02-03T00:00:00",
          "2022-02-04T00:00:00",
          "2022-02-07T00:00:00",
          "2022-02-08T00:00:00",
          "2022-02-09T00:00:00",
          "2022-02-10T00:00:00",
          "2022-02-11T00:00:00",
          "2022-02-14T00:00:00",
          "2022-02-15T00:00:00",
          "2022-02-16T00:00:00",
          "2022-02-17T00:00:00",
          "2022-02-18T00:00:00",
          "2022-02-21T00:00:00",
          "2022-02-22T00:00:00",
          "2022-02-23T00:00:00",
          "2022-02-24T00:00:00",
          "2022-02-25T00:00:00",
          "2022-02-28T00:00:00",
          "2022-03-02T00:00:00",
          "2022-03-03T00:00:00",
          "2022-03-04T00:00:00",
          "2022-03-07T00:00:00",
          "2022-03-08T00:00:00",
          "2022-03-09T00:00:00",
          "2022-03-10T00:00:00",
          "2022-03-11T00:00:00",
          "2022-03-14T00:00:00",
          "2022-03-15T00:00:00",
          "2022-03-16T00:00:00",
          "2022-03-17T00:00:00",
          "2022-03-21T00:00:00",
          "2022-03-22T00:00:00",
          "2022-03-23T00:00:00",
          "2022-03-24T00:00:00",
          "2022-03-25T00:00:00",
          "2022-03-28T00:00:00",
          "2022-03-29T00:00:00",
          "2022-03-30T00:00:00",
          "2022-03-31T00:00:00",
          "2022-04-01T00:00:00",
          "2022-04-04T00:00:00",
          "2022-04-05T00:00:00",
          "2022-04-06T00:00:00",
          "2022-04-07T00:00:00",
          "2022-04-08T00:00:00",
          "2022-04-11T00:00:00",
          "2022-04-12T00:00:00",
          "2022-04-13T00:00:00",
          "2022-04-18T00:00:00",
          "2022-04-19T00:00:00",
          "2022-04-20T00:00:00",
          "2022-04-21T00:00:00",
          "2022-04-22T00:00:00",
          "2022-04-25T00:00:00",
          "2022-04-26T00:00:00",
          "2022-04-27T00:00:00",
          "2022-04-28T00:00:00",
          "2022-04-29T00:00:00",
          "2022-05-02T00:00:00",
          "2022-05-04T00:00:00",
          "2022-05-05T00:00:00",
          "2022-05-06T00:00:00",
          "2022-05-09T00:00:00",
          "2022-05-10T00:00:00",
          "2022-05-11T00:00:00",
          "2022-05-12T00:00:00",
          "2022-05-13T00:00:00",
          "2022-05-16T00:00:00",
          "2022-05-17T00:00:00",
          "2022-05-18T00:00:00",
          "2022-05-19T00:00:00",
          "2022-05-20T00:00:00",
          "2022-05-23T00:00:00",
          "2022-05-24T00:00:00",
          "2022-05-25T00:00:00",
          "2022-05-26T00:00:00",
          "2022-05-27T00:00:00",
          "2022-05-30T00:00:00",
          "2022-05-31T00:00:00",
          "2022-06-01T00:00:00",
          "2022-06-02T00:00:00",
          "2022-06-03T00:00:00",
          "2022-06-06T00:00:00",
          "2022-06-07T00:00:00",
          "2022-06-08T00:00:00",
          "2022-06-09T00:00:00",
          "2022-06-10T00:00:00",
          "2022-06-13T00:00:00",
          "2022-06-14T00:00:00",
          "2022-06-15T00:00:00",
          "2022-06-16T00:00:00",
          "2022-06-17T00:00:00",
          "2022-06-20T00:00:00",
          "2022-06-21T00:00:00",
          "2022-06-22T00:00:00",
          "2022-06-23T00:00:00",
          "2022-06-24T00:00:00",
          "2022-06-27T00:00:00",
          "2022-06-28T00:00:00",
          "2022-06-29T00:00:00",
          "2022-06-30T00:00:00",
          "2022-07-01T00:00:00",
          "2022-07-04T00:00:00",
          "2022-07-05T00:00:00",
          "2022-07-06T00:00:00",
          "2022-07-07T00:00:00",
          "2022-07-08T00:00:00",
          "2022-07-11T00:00:00",
          "2022-07-12T00:00:00",
          "2022-07-13T00:00:00",
          "2022-07-14T00:00:00",
          "2022-07-15T00:00:00",
          "2022-07-18T00:00:00",
          "2022-07-19T00:00:00",
          "2022-07-20T00:00:00",
          "2022-07-21T00:00:00",
          "2022-07-22T00:00:00",
          "2022-07-25T00:00:00",
          "2022-07-26T00:00:00",
          "2022-07-27T00:00:00",
          "2022-07-28T00:00:00",
          "2022-07-29T00:00:00",
          "2022-08-01T00:00:00",
          "2022-08-02T00:00:00",
          "2022-08-03T00:00:00",
          "2022-08-04T00:00:00",
          "2022-08-05T00:00:00",
          "2022-08-08T00:00:00",
          "2022-08-10T00:00:00",
          "2022-08-11T00:00:00",
          "2022-08-12T00:00:00",
          "2022-08-16T00:00:00",
          "2022-08-17T00:00:00",
          "2022-08-18T00:00:00",
          "2022-08-19T00:00:00",
          "2022-08-22T00:00:00",
          "2022-08-23T00:00:00",
          "2022-08-24T00:00:00",
          "2022-08-25T00:00:00",
          "2022-08-26T00:00:00",
          "2022-08-29T00:00:00",
          "2022-08-30T00:00:00",
          "2022-09-01T00:00:00",
          "2022-09-02T00:00:00",
          "2022-09-05T00:00:00",
          "2022-09-06T00:00:00",
          "2022-09-07T00:00:00",
          "2022-09-08T00:00:00",
          "2022-09-09T00:00:00",
          "2022-09-12T00:00:00",
          "2022-09-13T00:00:00",
          "2022-09-14T00:00:00",
          "2022-09-15T00:00:00",
          "2022-09-16T00:00:00",
          "2022-09-19T00:00:00",
          "2022-09-20T00:00:00",
          "2022-09-21T00:00:00",
          "2022-09-22T00:00:00",
          "2022-09-23T00:00:00",
          "2022-09-26T00:00:00",
          "2022-09-27T00:00:00",
          "2022-09-28T00:00:00",
          "2022-09-29T00:00:00",
          "2022-09-30T00:00:00",
          "2022-10-03T00:00:00",
          "2022-10-04T00:00:00",
          "2022-10-06T00:00:00",
          "2022-10-07T00:00:00",
          "2022-10-10T00:00:00",
          "2022-10-11T00:00:00",
          "2022-10-12T00:00:00",
          "2022-10-13T00:00:00",
          "2022-10-14T00:00:00",
          "2022-10-17T00:00:00",
          "2022-10-18T00:00:00",
          "2022-10-19T00:00:00",
          "2022-10-20T00:00:00",
          "2022-10-21T00:00:00",
          "2022-10-24T00:00:00",
          "2022-10-25T00:00:00",
          "2022-10-27T00:00:00",
          "2022-10-28T00:00:00",
          "2022-10-31T00:00:00",
          "2022-11-01T00:00:00",
          "2022-11-02T00:00:00",
          "2022-11-03T00:00:00",
          "2022-11-04T00:00:00",
          "2022-11-07T00:00:00",
          "2022-11-09T00:00:00",
          "2022-11-10T00:00:00",
          "2022-11-11T00:00:00",
          "2022-11-14T00:00:00",
          "2022-11-15T00:00:00",
          "2022-11-16T00:00:00",
          "2022-11-17T00:00:00",
          "2022-11-18T00:00:00",
          "2022-11-21T00:00:00",
          "2022-11-22T00:00:00",
          "2022-11-23T00:00:00",
          "2022-11-24T00:00:00",
          "2022-11-25T00:00:00",
          "2022-11-28T00:00:00",
          "2022-11-29T00:00:00",
          "2022-11-30T00:00:00",
          "2022-12-01T00:00:00",
          "2022-12-02T00:00:00",
          "2022-12-05T00:00:00",
          "2022-12-06T00:00:00",
          "2022-12-07T00:00:00",
          "2022-12-08T00:00:00",
          "2022-12-09T00:00:00",
          "2022-12-12T00:00:00",
          "2022-12-13T00:00:00",
          "2022-12-14T00:00:00",
          "2022-12-15T00:00:00",
          "2022-12-16T00:00:00",
          "2022-12-19T00:00:00",
          "2022-12-20T00:00:00",
          "2022-12-21T00:00:00",
          "2022-12-22T00:00:00",
          "2022-12-23T00:00:00",
          "2022-12-26T00:00:00",
          "2022-12-27T00:00:00",
          "2022-12-28T00:00:00",
          "2022-12-29T00:00:00",
          "2022-12-30T00:00:00",
          "2023-01-02T00:00:00",
          "2023-01-03T00:00:00",
          "2023-01-04T00:00:00",
          "2023-01-05T00:00:00",
          "2023-01-06T00:00:00",
          "2023-01-09T00:00:00",
          "2023-01-10T00:00:00",
          "2023-01-11T00:00:00",
          "2023-01-12T00:00:00",
          "2023-01-13T00:00:00",
          "2023-01-16T00:00:00",
          "2023-01-17T00:00:00",
          "2023-01-18T00:00:00",
          "2023-01-19T00:00:00",
          "2023-01-20T00:00:00",
          "2023-01-23T00:00:00",
          "2023-01-24T00:00:00",
          "2023-01-25T00:00:00",
          "2023-01-27T00:00:00",
          "2023-01-30T00:00:00",
          "2023-01-31T00:00:00",
          "2023-02-01T00:00:00",
          "2023-02-02T00:00:00",
          "2023-02-03T00:00:00",
          "2023-02-06T00:00:00",
          "2023-02-07T00:00:00",
          "2023-02-08T00:00:00",
          "2023-02-09T00:00:00",
          "2023-02-10T00:00:00",
          "2023-02-13T00:00:00",
          "2023-02-14T00:00:00",
          "2023-02-15T00:00:00",
          "2023-02-16T00:00:00",
          "2023-02-17T00:00:00",
          "2023-02-20T00:00:00",
          "2023-02-21T00:00:00",
          "2023-02-22T00:00:00",
          "2023-02-23T00:00:00",
          "2023-02-24T00:00:00",
          "2023-02-27T00:00:00",
          "2023-02-28T00:00:00",
          "2023-03-01T00:00:00",
          "2023-03-02T00:00:00",
          "2023-03-03T00:00:00",
          "2023-03-06T00:00:00",
          "2023-03-08T00:00:00",
          "2023-03-09T00:00:00",
          "2023-03-10T00:00:00",
          "2023-03-13T00:00:00",
          "2023-03-14T00:00:00",
          "2023-03-15T00:00:00",
          "2023-03-16T00:00:00",
          "2023-03-17T00:00:00",
          "2023-03-20T00:00:00",
          "2023-03-21T00:00:00",
          "2023-03-22T00:00:00",
          "2023-03-23T00:00:00",
          "2023-03-24T00:00:00",
          "2023-03-27T00:00:00",
          "2023-03-28T00:00:00",
          "2023-03-29T00:00:00",
          "2023-03-31T00:00:00",
          "2023-04-03T00:00:00",
          "2023-04-05T00:00:00",
          "2023-04-06T00:00:00",
          "2023-04-10T00:00:00",
          "2023-04-11T00:00:00",
          "2023-04-12T00:00:00",
          "2023-04-13T00:00:00",
          "2023-04-17T00:00:00",
          "2023-04-18T00:00:00",
          "2023-04-19T00:00:00",
          "2023-04-20T00:00:00",
          "2023-04-21T00:00:00",
          "2023-04-24T00:00:00",
          "2023-04-25T00:00:00",
          "2023-04-26T00:00:00",
          "2023-04-27T00:00:00",
          "2023-04-28T00:00:00",
          "2023-05-02T00:00:00",
          "2023-05-03T00:00:00",
          "2023-05-04T00:00:00",
          "2023-05-05T00:00:00",
          "2023-05-08T00:00:00",
          "2023-05-09T00:00:00",
          "2023-05-10T00:00:00",
          "2023-05-11T00:00:00",
          "2023-05-12T00:00:00",
          "2023-05-15T00:00:00",
          "2023-05-16T00:00:00",
          "2023-05-17T00:00:00",
          "2023-05-18T00:00:00",
          "2023-05-19T00:00:00",
          "2023-05-22T00:00:00",
          "2023-05-23T00:00:00",
          "2023-05-24T00:00:00",
          "2023-05-25T00:00:00",
          "2023-05-26T00:00:00",
          "2023-05-29T00:00:00",
          "2023-05-30T00:00:00",
          "2023-05-31T00:00:00",
          "2023-06-01T00:00:00",
          "2023-06-02T00:00:00",
          "2023-06-05T00:00:00",
          "2023-06-06T00:00:00",
          "2023-06-07T00:00:00",
          "2023-06-08T00:00:00",
          "2023-06-09T00:00:00",
          "2023-06-12T00:00:00",
          "2023-06-13T00:00:00",
          "2023-06-14T00:00:00",
          "2023-06-15T00:00:00",
          "2023-06-16T00:00:00",
          "2023-06-19T00:00:00",
          "2023-06-20T00:00:00",
          "2023-06-21T00:00:00",
          "2023-06-22T00:00:00",
          "2023-06-23T00:00:00",
          "2023-06-26T00:00:00",
          "2023-06-27T00:00:00",
          "2023-06-28T00:00:00",
          "2023-06-30T00:00:00",
          "2023-07-03T00:00:00",
          "2023-07-04T00:00:00",
          "2023-07-05T00:00:00",
          "2023-07-06T00:00:00",
          "2023-07-07T00:00:00",
          "2023-07-10T00:00:00",
          "2023-07-11T00:00:00",
          "2023-07-12T00:00:00",
          "2023-07-13T00:00:00",
          "2023-07-14T00:00:00",
          "2023-07-17T00:00:00",
          "2023-07-18T00:00:00",
          "2023-07-19T00:00:00",
          "2023-07-20T00:00:00",
          "2023-07-21T00:00:00",
          "2023-07-24T00:00:00",
          "2023-07-25T00:00:00",
          "2023-07-26T00:00:00",
          "2023-07-27T00:00:00",
          "2023-07-28T00:00:00",
          "2023-07-31T00:00:00",
          "2023-08-01T00:00:00",
          "2023-08-02T00:00:00",
          "2023-08-03T00:00:00",
          "2023-08-04T00:00:00",
          "2023-08-07T00:00:00",
          "2023-08-08T00:00:00",
          "2023-08-09T00:00:00",
          "2023-08-10T00:00:00",
          "2023-08-11T00:00:00",
          "2023-08-14T00:00:00",
          "2023-08-16T00:00:00",
          "2023-08-17T00:00:00",
          "2023-08-18T00:00:00",
          "2023-08-21T00:00:00",
          "2023-08-22T00:00:00",
          "2023-08-23T00:00:00",
          "2023-08-24T00:00:00",
          "2023-08-25T00:00:00",
          "2023-08-28T00:00:00",
          "2023-08-29T00:00:00",
          "2023-08-30T00:00:00",
          "2023-08-31T00:00:00",
          "2023-09-01T00:00:00",
          "2023-09-04T00:00:00",
          "2023-09-05T00:00:00",
          "2023-09-06T00:00:00",
          "2023-09-07T00:00:00",
          "2023-09-08T00:00:00",
          "2023-09-11T00:00:00",
          "2023-09-12T00:00:00",
          "2023-09-13T00:00:00",
          "2023-09-14T00:00:00",
          "2023-09-15T00:00:00",
          "2023-09-18T00:00:00",
          "2023-09-20T00:00:00",
          "2023-09-21T00:00:00",
          "2023-09-22T00:00:00",
          "2023-09-25T00:00:00",
          "2023-09-26T00:00:00",
          "2023-09-27T00:00:00",
          "2023-09-28T00:00:00",
          "2023-09-29T00:00:00",
          "2023-10-03T00:00:00",
          "2023-10-04T00:00:00",
          "2023-10-05T00:00:00",
          "2023-10-06T00:00:00",
          "2023-10-09T00:00:00",
          "2023-10-10T00:00:00",
          "2023-10-11T00:00:00",
          "2023-10-12T00:00:00",
          "2023-10-13T00:00:00"
         ],
         "xaxis": "x",
         "y": [
          1327.22021484375,
          1333.230712890625,
          1341.244873046875,
          1364.8475341796875,
          1384.247802734375,
          1382.097412109375,
          1360.84033203125,
          1403.89208984375,
          1398.760986328125,
          1401.741943359375,
          1433.798583984375,
          1445.575439453125,
          1431.15966796875,
          1423.8785400390625,
          1424.611572265625,
          1414.4962158203125,
          1402.3770751953125,
          1425.5400390625,
          1412.7369384765625,
          1395.4381103515625,
          1438.9295654296875,
          1429.595947265625,
          1437.5125732421875,
          1426.12646484375,
          1475.5306396484375,
          1512.57177734375,
          1502.7496337890625,
          1511.44775390625,
          1526.1566162109375,
          1524.885986328125,
          1534.2686767578125,
          1544.481689453125,
          1515.992431640625,
          1550.5411376953125,
          1543.1134033203125,
          1517.5072021484375,
          1515.6990966796875,
          1519.657470703125,
          1536.9561767578125,
          1526.547607421875,
          1526.9874267578125,
          1532.6558837890625,
          1547.0228271484375,
          1531.09228515625,
          1527.2806396484375,
          1540.1324462890625,
          1573.459716796875,
          1562.85546875,
          1535.7833251953125,
          1511.3988037109375,
          1481.0526123046875,
          1507.3916015625,
          1509.199951171875,
          1479.7333984375,
          1475.3841552734375,
          1500.501708984375,
          1502.3095703125,
          1467.4676513671875,
          1490.0440673828125,
          1478.853515625,
          1512.9136962890625,
          1512.57177734375,
          1508.7113037109375,
          1494.7353515625,
          1489.311279296875,
          1503.042724609375,
          1545.1656494140625,
          1497.618408203125,
          1499.13330078125,
          1498.5958251953125,
          1492.2431640625,
          1487.063232421875,
          1472.4033203125,
          1438.3919677734375,
          1446.3084716796875,
          1411.0267333984375,
          1379.6541748046875,
          1354.0968017578125,
          1394.06982421875,
          1415.6689453125,
          1424.7581787109375,
          1401.1556396484375,
          1403.061279296875,
          1419.8226318359375,
          1436.974853515625,
          1440.737548828125,
          1453.8828125,
          1444.74462890625,
          1434.1405029296875,
          1469.7154541015625,
          1452.2701416015625,
          1412.199462890625,
          1384.296630859375,
          1360.4495849609375,
          1354.8299560546875,
          1298.5352783203125,
          1286.31884765625,
          1312.41357421875,
          1309.3349609375,
          1281.431884765625,
          1242.192138671875,
          1088.8973388671875,
          1127.404052734375,
          1038.906494140625,
          1080.247802734375,
          992.6785888671875,
          985.1531982421875,
          946.5484008789062,
          896.8998413085938,
          994.877685546875,
          864.0125732421875,
          922.0173950195312,
          1057.72021484375,
          1042.033935546875,
          1041.447509765625,
          1007.0943603515625,
          1088.5062255859375,
          1055.9610595703125,
          1053.0291748046875,
          1178.76318359375,
          1165.1292724609375,
          1192.2991943359375,
          1162.197265625,
          1123.7880859375,
          1141.5755615234375,
          1196.25732421875,
          1215.6085205078125,
          1209.3048095703125,
          1332.693359375,
          1339.8277587890625,
          1384.8829345703125,
          1397.3438720703125,
          1395.7801513671875,
          1394.6072998046875,
          1432.7723388671875,
          1402.67041015625,
          1427.54345703125,
          1427.641357421875,
          1472.794189453125,
          1526.4010009765625,
          1541.06103515625,
          1445.7220458984375,
          1476.3953857421875,
          1416.706298828125,
          1439.8421630859375,
          1421.442138671875,
          1390.018798828125,
          1414.4864501953125,
          1421.9351806640625,
          1412.365234375,
          1404.9656982421875,
          1426.1776123046875,
          1452.519775390625,
          1444.77490234375,
          1499.9752197265625,
          1515.119384765625,
          1520.9898681640625,
          1558.628662109375,
          1560.5029296875,
          1548.4666748046875,
          1516.550048828125,
          1551.0810546875,
          1517.0926513671875,
          1567.508056640625,
          1592.9129638671875,
          1596.0206298828125,
          1593.7020263671875,
          1633.7086181640625,
          1735.821533203125,
          1722.7491455078125,
          1697.8375244140625,
          1704.6944580078125,
          1694.8778076171875,
          1718.3094482421875,
          1700.057373046875,
          1681.2626953125,
          1714.3138427734375,
          1743.280029296875,
          1770.56298828125,
          1833.843505859375,
          1805.7681884765625,
          1780.56494140625,
          1806.560546875,
          1859.8387451171875,
          1916.2364501953125,
          1898.4110107421875,
          1826.1190185546875,
          1825.5247802734375,
          1893.162353515625,
          1901.282958984375,
          1952.43212890625,
          1984.5675048828125,
          2037.845703125,
          2125.339111328125,
          2135.291748046875,
          2156.5830078125,
          2076.319091796875,
          2088.40087890625,
          2047.0557861328125,
          1989.5189208984375,
          2129.745849609375,
          2105.830078125,
          2113.406005859375,
          2125.635986328125,
          2099.294189453125,
          2113.10888671875,
          2106.968994140625,
          2101.47265625,
          2093.302734375,
          2071.070556640625,
          2098.006591796875,
          2110.880859375,
          2076.71533203125,
          2061.66259765625,
          2075.427978515625,
          2061.91015625,
          2116.57470703125,
          2090.134033203125,
          2095.630126953125,
          2060.523681640625,
          2067.01025390625,
          2107.563232421875,
          2091.619384765625,
          2057.107177734375,
          2062.454833984375,
          2086.667724609375,
          2140.391845703125,
          2291.5615234375,
          2297.255615234375,
          2280.22265625,
          2296.364501953125,
          2302.009033203125,
          2276.45947265625,
          2283.342041015625,
          2233.975341796875,
          2189.70849609375,
          2209.168212890625,
          2160.049072265625,
          2180.350341796875,
          2194.75927734375,
          2223.2802734375,
          2212.683837890625,
          2203.671875,
          2190.748291015625,
          2188.916748046875,
          2235.609130859375,
          2217.536376953125,
          2211.79248046875,
          2215.357666015625,
          2258.58447265625,
          2265.318359375,
          2185.103759765625,
          2154.701416015625,
          2155.09765625,
          2134.994384765625,
          2103.998046875,
          2086.51904296875,
          2092.560302734375,
          2009.424072265625,
          2014.771728515625,
          1991.945068359375,
          2007.2454833984375,
          2034.5777587890625,
          1859.24462890625,
          1832.45703125,
          1894.64794921875,
          1936.0426025390625,
          2009.4736328125,
          2030.8145751953125,
          2064.33642578125,
          1977.8333740234375,
          1960.8001708984375,
          1977.0411376953125,
          1982.884033203125,
          1973.921630859375,
          1967.9302978515625,
          1954.0166015625,
          1881.080810546875,
          1931.7841796875,
          1945.0048828125,
          1928.9124755859375,
          1933.6658935546875,
          1911.0870361328125,
          1935.943603515625,
          1939.162109375,
          1945.0048828125,
          1927.8726806640625,
          1939.2115478515625,
          1974.4168701171875,
          2007.2947998046875,
          1987.538330078125,
          1986.35009765625,
          1971.9906005859375,
          1955.205078125,
          1957.3837890625,
          1966.3458251953125,
          1972.23828125,
          1920.8909912109375,
          1917.920166015625,
          1925.000732421875,
          1974.81298828125,
          1983.874267578125,
          1970.7528076171875,
          1976.14990234375,
          1966.048828125,
          1968.2274169921875,
          1971.544921875,
          1947.034912109375,
          1895.687744140625,
          1892.617919921875,
          1914.9490966796875,
          1878.8526611328125,
          1938.07275390625,
          1919.999755859375,
          1941.58837890625,
          1918.6627197265625,
          1964.7119140625,
          1996.8472900390625,
          2034.7757568359375,
          2079.04248046875,
          2029.725341796875,
          1922.1783447265625,
          1876.62451171875,
          1858.3533935546875,
          1824.0888671875,
          1876.9215087890625,
          1907.1258544921875,
          1911.9288330078125,
          1905.6402587890625,
          1905.095703125,
          1932.5269775390625,
          1937.1815185546875,
          1955.155517578125,
          2035.76611328125,
          2021.802734375,
          2012.89013671875,
          2039.5294189453125,
          2063.049072265625,
          2047.649658203125,
          2060.127685546875,
          1988.6275634765625,
          2003.828857421875,
          2041.0146484375,
          2123.556640625,
          2065.57421875,
          2081.3203125,
          2085.578369140625,
          2180.74658203125,
          2154.751220703125,
          2157.5732421875,
          2169.853271484375,
          2169.8037109375,
          2160.7919921875,
          2116.8720703125,
          2088.449951171875,
          2080.230712890625,
          2035.41943359375,
          1989.6180419921875,
          2061.81103515625,
          2042.4010009765625,
          2067.2578125,
          2027.4476318359375,
          1972.13916015625,
          1975.30810546875,
          2009.6221923828125,
          1983.6761474609375,
          2002.2442626953125,
          1973.2779541015625,
          1965.05859375,
          1983.4285888671875,
          1985.904296875,
          1962.830322265625,
          1892.617919921875,
          1913.067626953125,
          1925.4464111328125,
          1913.3646240234375,
          1883.2593994140625,
          1882.71484375,
          1887.9139404296875,
          1885.8836669921875,
          1919.058837890625,
          1969.3663330078125,
          1977.9324951171875,
          2004.423095703125,
          1975.1595458984375,
          1940.053466796875,
          1898.0150146484375,
          1901.48095703125,
          1912.2752685546875,
          1913.01806640625,
          1907.52197265625,
          1914.404541015625,
          1894.598388671875,
          1918.5142822265625,
          1941.3406982421875,
          1968.6729736328125,
          1977.684814453125,
          1966.1478271484375,
          1983.1317138671875,
          1966.3955078125,
          1944.1136474609375,
          1950.94677734375,
          1956.9381103515625,
          2074.48681640625,
          2139.351806640625,
          2147.868408203125,
          2179.90478515625,
          2188.223388671875,
          2169.2587890625,
          2205.801025390625,
          2193.12548828125,
          2153.9091796875,
          2161.831787109375,
          2198.73974609375,
          2230.282958984375,
          2235.349853515625,
          2197.2001953125,
          2201.2236328125,
          2211.158447265625,
          2222.682861328125,
          2211.258056640625,
          2190.99072265625,
          2139.478271484375,
          2090.74755859375,
          2072.417724609375,
          2074.206298828125,
          2096.9072265625,
          2084.2900390625,
          2115.1875,
          2136.19970703125,
          2110.96533203125,
          2096.311279296875,
          2078.97509765625,
          2057.714111328125,
          2070.5302734375,
          2086.0283203125,
          2072.417724609375,
          2068.791748046875,
          2098.645751953125,
          2085.283447265625,
          2080.1669921875,
          2106.891845703125,
          2091.989501953125,
          2063.327392578125,
          2041.61962890625,
          2024.08447265625,
          2039.8809814453125,
          2022.0478515625,
          2059.005615234375,
          2074.15625,
          2090.05224609375,
          2120.353759765625,
          2075.447998046875,
          2063.62548828125,
          2074.45458984375,
          2103.513916015625,
          2096.75830078125,
          2131.67919921875,
          2159.34814453125,
          2150.158447265625,
          2158.50341796875,
          2134.262451171875,
          2148.270751953125,
          2169.481689453125,
          2188.258544921875,
          2215.92724609375,
          2212.89697265625,
          2255.468017578125,
          2243.44677734375,
          2252.338623046875,
          2279.4609375,
          2372.9482421875,
          2409.806640625,
          2425.0068359375,
          2415.519287109375,
          2409.806640625,
          2356.108642578125,
          2353.028564453125,
          2362.814697265625,
          2412.389404296875,
          2374.98486328125,
          2378.76025390625,
          2389.04248046875,
          2414.674560546875,
          2473.687744140625,
          2466.53466796875,
          2508.012939453125,
          2531.45947265625,
          2511.390869140625,
          2502.846923828125,
          2507.267822265625,
          2539.50634765625,
          2592.211181640625,
          2543.1826171875,
          2555.65087890625,
          2653.857177734375,
          2635.378173828125,
          2650.4296875,
          2677.40283203125,
          2682.8173828125,
          2689.970458984375,
          2714.062744140625,
          2682.8173828125,
          2605.424560546875,
          2610.29248046875,
          2584.859375,
          2643.7236328125,
          2610.29248046875,
          2581.68017578125,
          2519.736083984375,
          2521.276123046875,
          2484.51708984375,
          2467.428955078125,
          2482.579833984375,
          2485.659423828125,
          2505.28076171875,
          2533.297119140625,
          2537.9169921875,
          2576.216064453125,
          2561.015625,
          2501.505615234375,
          2447.95654296875,
          2457.196044921875,
          2348.359375,
          2370.3154296875,
          2336.089599609375,
          2476.718017578125,
          2396.891357421875,
          2425.60302734375,
          2389.738037109375,
          2450.93701171875,
          2466.68408203125,
          2392.569580078125,
          2347.216796875,
          2366.341552734375,
          2402.355712890625,
          2440.45556640625,
          2442.939208984375,
          2393.96044921875,
          2364.65234375,
          2357.747802734375,
          2388.247802734375,
          2325.2109375,
          2262.52197265625,
          2296.200927734375,
          2350.694091796875,
          2349.849365234375,
          2357.3505859375,
          2354.81689453125,
          2382.78369140625,
          2386.85693359375,
          2343.73974609375,
          2352.730712890625,
          2388.1982421875,
          2442.09521484375,
          2453.52001953125,
          2400.765869140625,
          2420.138916015625,
          2422.1259765625,
          2439.5615234375,
          2504.684814453125,
          2518.79248046875,
          2522.46826171875,
          2535.6318359375,
          2505.38037109375,
          2505.181640625,
          2461.31884765625,
          2461.716552734375,
          2362.4169921875,
          2357.79736328125,
          2322.87646484375,
          2320.64111328125,
          2371.060546875,
          2363.2119140625,
          2368.0302734375,
          2337.430908203125,
          2316.12060546875,
          2302.012939453125,
          2340.709716796875,
          2367.980712890625,
          2365.546630859375,
          2360.9267578125,
          2323.323486328125,
          2402.206298828125,
          2397.239013671875,
          2427.58984375,
          2408.6142578125,
          2384.273681640625,
          2373.44482421875,
          2358.59228515625,
          2241.0625,
          2269.078857421875,
          2344.186767578125,
          2382.932861328125,
          2362.814697265625,
          2310.408203125,
          2224.968017578125,
          2220.9443359375,
          2338.7724609375,
          2376.673583984375,
          2383.52880859375,
          2403.1005859375,
          2348.061279296875,
          2387.70166015625,
          2465.541259765625,
          2451.33447265625,
          2514.66943359375,
          2522.6669921875,
          2561.860107421875,
          2578.947998046875,
          2604.8779296875,
          2605.474365234375,
          2655.5458984375,
          2617.5947265625,
          2638.5576171875,
          2646.356201171875,
          2608.951416015625,
          2601.9970703125,
          2556.097900390625,
          2598.619140625,
          2593.20458984375,
          2544.374755859375,
          2535.035888671875,
          2527.286865234375,
          2623.60546875,
          2700.749755859375,
          2763.9853515625,
          2740.837158203125,
          2677.452392578125,
          2757.577392578125,
          2760.259765625,
          2801.48974609375,
          2772.082275390625,
          2762.34619140625,
          2676.111328125,
          2623.70458984375,
          2603.58642578125,
          2501.903076171875,
          2458.537109375,
          2433.352294921875,
          2383.777099609375,
          2410.800048828125,
          2411.396240234375,
          2512.68212890625,
          2521.822509765625,
          2463.703369140625,
          2607.36181640625,
          2589.926025390625,
          2598.81787109375,
          2594.992919921875,
          2570.255126953125,
          2558.333251953125,
          2647.448974609375,
          2615.50830078125,
          2616.352783203125,
          2706.561767578125,
          2761.40234375,
          2749.530029296875,
          2754.6962890625,
          2706.3134765625,
          2780.527099609375,
          2696.5771484375,
          2645.5615234375,
          2610.98828125,
          2579.395263671875,
          2543.33154296875,
          2573.13623046875,
          2526.49169921875,
          2567.274658203125,
          2489.285888671875,
          2448.900390625,
          2483.77197265625,
          2476.419921875,
          2511.24169921875,
          2563.35009765625,
          2578.749267578125,
          2393.0166015625,
          2397.984130859375,
          2417.40673828125,
          2396.14599609375,
          2372.55078125,
          2375.8291015625,
          2408.117431640625,
          2404.690185546875,
          2362.0693359375,
          2381.541748046875,
          2386.16162109375,
          2406.478515625,
          2421.231689453125,
          2486.70263671875,
          2470.111328125,
          2486.80224609375,
          2404.640380859375,
          2405.7333984375,
          2403.4482421875,
          2441.1015625,
          2493.110595703125,
          2558.084716796875,
          2567.82080078125,
          2589.3798828125,
          2555.154052734375,
          2517.5009765625,
          2550.434814453125,
          2565.684814453125,
          2574.229248046875,
          2615.85595703125,
          2634.036865234375,
          2647.796630859375,
          2651.93212890625,
          2604.6494140625,
          2597.4248046875,
          2637.4833984375,
          2630.4580078125,
          2622.78515625,
          2608.78466796875,
          2588.506103515625,
          2628.664306640625,
          2551.38720703125,
          2521.592529296875,
          2560.75439453125,
          2587.709228515625,
          2572.662109375,
          2576.29931640625,
          2560.256103515625,
          2588.90478515625,
          2610.528564453125,
          2579.239013671875,
          2553.67919921875,
          2490.40283203125,
          2493.641357421875,
          2494.0400390625,
          2500.915771484375,
          2477.348876953125,
          2430.912841796875,
          2368.981689453125,
          2387.815185546875,
          2324.23974609375,
          2317.114990234375,
          2369.38037109375,
          2361.159423828125,
          2404.70556640625,
          2413.57421875,
          2423.7880859375,
          2397.33154296875,
          2349.60009765625,
          2366.88916015625,
          2374.41259765625,
          2362.35498046875,
          2400.271240234375,
          2442.62158203125,
          2485.121337890625,
          2491.7978515625,
          2462.900146484375,
          2471.12109375,
          2432.955810546875,
          2442.521728515625,
          2517.2578125,
          2540.62548828125,
          2520.945068359375,
          2536.689208984375,
          2546.15576171875,
          2583.62353515625,
          2597.4248046875,
          2594.833984375,
          2563.44482421875,
          2622.5361328125,
          2609.8310546875,
          2598.122314453125,
          2583.22509765625,
          2589.9013671875,
          2588.506103515625,
          2541.920654296875,
          2556.02099609375,
          2548.04931640625,
          2570.021728515625,
          2608.38623046875,
          2698.01953125,
          2702.653076171875,
          2721.735595703125,
          2713.714111328125,
          2712.56787109375,
          2673.0078125,
          2680.73046875,
          2641.170166015625,
          2639.924560546875,
          2599.916015625,
          2603.90185546875,
          2615.760009765625,
          2606.29345703125,
          2569.274169921875,
          2556.569091796875,
          2590.150390625,
          2612.5712890625,
          2575.402587890625,
          2568.72607421875,
          2493.39208984375,
          2515.165283203125,
          2535.74267578125,
          2535.493408203125,
          2534.34765625,
          2538.23388671875,
          2566.832763671875,
          2548.04931640625,
          2509.684814453125,
          2505.20068359375,
          2527.969970703125,
          2587.6591796875,
          2549.394287109375,
          2517.2578125,
          2462.900146484375,
          2458.9140625,
          2435.496826171875,
          2470.07470703125,
          2465.989013671875,
          2463.348388671875,
          2434.0517578125,
          2421.745361328125,
          2407.44580078125,
          2374.163330078125,
          2329.12255859375,
          2351.443603515625,
          2345.564453125,
          2331.663330078125,
          2318.759033203125,
          2320.802001953125,
          2303.313720703125,
          2297.783203125,
          2343.671142578125,
          2347.7568359375,
          2328.4248046875,
          2315.171875,
          2369.729248046875,
          2423.389404296875,
          2421.496337890625,
          2431.6103515625,
          2405.901123046875,
          2425.531982421875,
          2370.526123046875,
          2359.166259765625,
          2375.309326171875,
          2359.51513671875,
          2314.374755859375,
          2335.6494140625,
          2317.8623046875,
          2377.003173828125,
          2400.22119140625,
          2408.841064453125,
          2350.9453125,
          2314.52392578125,
          2276.45849609375,
          2267.9384765625,
          2229.175537109375,
          2218.064697265625,
          2215.274658203125,
          2193.50146484375,
          2261.710693359375,
          2268.58642578125,
          2239.8876953125,
          2195.54443359375,
          2229.673828125,
          2240.0869140625,
          2226.833740234375,
          2322.8447265625,
          2323.2431640625,
          2317.6630859375,
          2333.2080078125,
          2316.66650390625,
          2328.126220703125,
          2338.3896484375,
          2347.20849609375,
          2359.116455078125,
          2332.112060546875,
          2343.720947265625,
          2337.7919921875,
          2340.7314453125,
          2349.69970703125,
          2367.686279296875,
          2353.785400390625,
          2368.682861328125,
          2411.979736328125,
          2432.45751953125,
          2411.581298828125,
          2439.383056640625,
          2433.155029296875,
          2463.19873046875,
          2470.822021484375,
          2487.81201171875,
          2471.5693359375,
          2475.605224609375,
          2480.48779296875,
          2445.16259765625,
          2430.713623046875,
          2425.482177734375,
          2433.354248046875,
          2446.3583984375,
          2445.909912109375,
          2431.660400390625,
          2431.361328125,
          2497.677001953125,
          2511.7275390625,
          2511.07958984375,
          2461.205810546875,
          2454.579345703125,
          2446.5576171875,
          2468.530029296875,
          2470.622802734375,
          2489.3564453125,
          2490.85107421875,
          2473.21337890625,
          2475.40576171875,
          2511.9765625,
          2542.86767578125,
          2543.56494140625,
          2568.327392578125,
          2542.817626953125,
          2548.09912109375,
          2555.273681640625,
          2526.574951171875,
          2505.89794921875,
          2486.765625,
          2487.662353515625,
          2487.662353515625,
          2541.273193359375,
          2606.49267578125,
          2579.637451171875,
          2575.402587890625,
          2629.461669921875,
          2624.329833984375,
          2725.422607421875,
          2754.96826171875,
          2758.007568359375,
          2733.3447265625,
          2731.052734375,
          2786.85546875,
          2810.52197265625,
          2831.8466796875,
          2610.628173828125,
          2529.8134765625,
          2478.644287109375,
          2477.050048828125,
          2517.3076171875,
          2493.890380859375,
          2518.9521484375,
          2540.276611328125,
          2504.353515625,
          2477.59814453125,
          2467.184814453125,
          2500.71630859375,
          2514.966064453125,
          2499.8193359375,
          2516.311279296875,
          2527.521728515625,
          2538.183837890625,
          2568.177978515625,
          2566.08544921875,
          2529.066162109375,
          2547.800048828125,
          2520,
          2519.39990234375,
          2522.199951171875,
          2479.800048828125,
          2468.35009765625,
          2443.75,
          2420.35009765625,
          2418.050048828125,
          2407,
          2412.64990234375,
          2410.699951171875,
          2423.60009765625,
          2428.699951171875,
          2432,
          2448.199951171875,
          2474.60009765625,
          2438.85009765625,
          2451.050048828125,
          2453.300048828125,
          2457.85009765625,
          2436.449951171875,
          2382.14990234375,
          2364.800048828125,
          2354.949951171875,
          2340.449951171875,
          2342.5,
          2368.89990234375,
          2334.10009765625,
          2345,
          2318.14990234375,
          2314.14990234375,
          2314.10009765625,
          2318,
          2298.25,
          2308.39990234375,
          2345.050048828125,
          2349.39990234375,
          2349.300048828125
         ],
         "yaxis": "y"
        }
       ],
       "layout": {
        "legend": {
         "tracegroupgap": 0
        },
        "margin": {
         "t": 60
        },
        "template": {
         "data": {
          "bar": [
           {
            "error_x": {
             "color": "#2a3f5f"
            },
            "error_y": {
             "color": "#2a3f5f"
            },
            "marker": {
             "line": {
              "color": "#E5ECF6",
              "width": 0.5
             },
             "pattern": {
              "fillmode": "overlay",
              "size": 10,
              "solidity": 0.2
             }
            },
            "type": "bar"
           }
          ],
          "barpolar": [
           {
            "marker": {
             "line": {
              "color": "#E5ECF6",
              "width": 0.5
             },
             "pattern": {
              "fillmode": "overlay",
              "size": 10,
              "solidity": 0.2
             }
            },
            "type": "barpolar"
           }
          ],
          "carpet": [
           {
            "aaxis": {
             "endlinecolor": "#2a3f5f",
             "gridcolor": "white",
             "linecolor": "white",
             "minorgridcolor": "white",
             "startlinecolor": "#2a3f5f"
            },
            "baxis": {
             "endlinecolor": "#2a3f5f",
             "gridcolor": "white",
             "linecolor": "white",
             "minorgridcolor": "white",
             "startlinecolor": "#2a3f5f"
            },
            "type": "carpet"
           }
          ],
          "choropleth": [
           {
            "colorbar": {
             "outlinewidth": 0,
             "ticks": ""
            },
            "type": "choropleth"
           }
          ],
          "contour": [
           {
            "colorbar": {
             "outlinewidth": 0,
             "ticks": ""
            },
            "colorscale": [
             [
              0,
              "#0d0887"
             ],
             [
              0.1111111111111111,
              "#46039f"
             ],
             [
              0.2222222222222222,
              "#7201a8"
             ],
             [
              0.3333333333333333,
              "#9c179e"
             ],
             [
              0.4444444444444444,
              "#bd3786"
             ],
             [
              0.5555555555555556,
              "#d8576b"
             ],
             [
              0.6666666666666666,
              "#ed7953"
             ],
             [
              0.7777777777777778,
              "#fb9f3a"
             ],
             [
              0.8888888888888888,
              "#fdca26"
             ],
             [
              1,
              "#f0f921"
             ]
            ],
            "type": "contour"
           }
          ],
          "contourcarpet": [
           {
            "colorbar": {
             "outlinewidth": 0,
             "ticks": ""
            },
            "type": "contourcarpet"
           }
          ],
          "heatmap": [
           {
            "colorbar": {
             "outlinewidth": 0,
             "ticks": ""
            },
            "colorscale": [
             [
              0,
              "#0d0887"
             ],
             [
              0.1111111111111111,
              "#46039f"
             ],
             [
              0.2222222222222222,
              "#7201a8"
             ],
             [
              0.3333333333333333,
              "#9c179e"
             ],
             [
              0.4444444444444444,
              "#bd3786"
             ],
             [
              0.5555555555555556,
              "#d8576b"
             ],
             [
              0.6666666666666666,
              "#ed7953"
             ],
             [
              0.7777777777777778,
              "#fb9f3a"
             ],
             [
              0.8888888888888888,
              "#fdca26"
             ],
             [
              1,
              "#f0f921"
             ]
            ],
            "type": "heatmap"
           }
          ],
          "heatmapgl": [
           {
            "colorbar": {
             "outlinewidth": 0,
             "ticks": ""
            },
            "colorscale": [
             [
              0,
              "#0d0887"
             ],
             [
              0.1111111111111111,
              "#46039f"
             ],
             [
              0.2222222222222222,
              "#7201a8"
             ],
             [
              0.3333333333333333,
              "#9c179e"
             ],
             [
              0.4444444444444444,
              "#bd3786"
             ],
             [
              0.5555555555555556,
              "#d8576b"
             ],
             [
              0.6666666666666666,
              "#ed7953"
             ],
             [
              0.7777777777777778,
              "#fb9f3a"
             ],
             [
              0.8888888888888888,
              "#fdca26"
             ],
             [
              1,
              "#f0f921"
             ]
            ],
            "type": "heatmapgl"
           }
          ],
          "histogram": [
           {
            "marker": {
             "pattern": {
              "fillmode": "overlay",
              "size": 10,
              "solidity": 0.2
             }
            },
            "type": "histogram"
           }
          ],
          "histogram2d": [
           {
            "colorbar": {
             "outlinewidth": 0,
             "ticks": ""
            },
            "colorscale": [
             [
              0,
              "#0d0887"
             ],
             [
              0.1111111111111111,
              "#46039f"
             ],
             [
              0.2222222222222222,
              "#7201a8"
             ],
             [
              0.3333333333333333,
              "#9c179e"
             ],
             [
              0.4444444444444444,
              "#bd3786"
             ],
             [
              0.5555555555555556,
              "#d8576b"
             ],
             [
              0.6666666666666666,
              "#ed7953"
             ],
             [
              0.7777777777777778,
              "#fb9f3a"
             ],
             [
              0.8888888888888888,
              "#fdca26"
             ],
             [
              1,
              "#f0f921"
             ]
            ],
            "type": "histogram2d"
           }
          ],
          "histogram2dcontour": [
           {
            "colorbar": {
             "outlinewidth": 0,
             "ticks": ""
            },
            "colorscale": [
             [
              0,
              "#0d0887"
             ],
             [
              0.1111111111111111,
              "#46039f"
             ],
             [
              0.2222222222222222,
              "#7201a8"
             ],
             [
              0.3333333333333333,
              "#9c179e"
             ],
             [
              0.4444444444444444,
              "#bd3786"
             ],
             [
              0.5555555555555556,
              "#d8576b"
             ],
             [
              0.6666666666666666,
              "#ed7953"
             ],
             [
              0.7777777777777778,
              "#fb9f3a"
             ],
             [
              0.8888888888888888,
              "#fdca26"
             ],
             [
              1,
              "#f0f921"
             ]
            ],
            "type": "histogram2dcontour"
           }
          ],
          "mesh3d": [
           {
            "colorbar": {
             "outlinewidth": 0,
             "ticks": ""
            },
            "type": "mesh3d"
           }
          ],
          "parcoords": [
           {
            "line": {
             "colorbar": {
              "outlinewidth": 0,
              "ticks": ""
             }
            },
            "type": "parcoords"
           }
          ],
          "pie": [
           {
            "automargin": true,
            "type": "pie"
           }
          ],
          "scatter": [
           {
            "fillpattern": {
             "fillmode": "overlay",
             "size": 10,
             "solidity": 0.2
            },
            "type": "scatter"
           }
          ],
          "scatter3d": [
           {
            "line": {
             "colorbar": {
              "outlinewidth": 0,
              "ticks": ""
             }
            },
            "marker": {
             "colorbar": {
              "outlinewidth": 0,
              "ticks": ""
             }
            },
            "type": "scatter3d"
           }
          ],
          "scattercarpet": [
           {
            "marker": {
             "colorbar": {
              "outlinewidth": 0,
              "ticks": ""
             }
            },
            "type": "scattercarpet"
           }
          ],
          "scattergeo": [
           {
            "marker": {
             "colorbar": {
              "outlinewidth": 0,
              "ticks": ""
             }
            },
            "type": "scattergeo"
           }
          ],
          "scattergl": [
           {
            "marker": {
             "colorbar": {
              "outlinewidth": 0,
              "ticks": ""
             }
            },
            "type": "scattergl"
           }
          ],
          "scattermapbox": [
           {
            "marker": {
             "colorbar": {
              "outlinewidth": 0,
              "ticks": ""
             }
            },
            "type": "scattermapbox"
           }
          ],
          "scatterpolar": [
           {
            "marker": {
             "colorbar": {
              "outlinewidth": 0,
              "ticks": ""
             }
            },
            "type": "scatterpolar"
           }
          ],
          "scatterpolargl": [
           {
            "marker": {
             "colorbar": {
              "outlinewidth": 0,
              "ticks": ""
             }
            },
            "type": "scatterpolargl"
           }
          ],
          "scatterternary": [
           {
            "marker": {
             "colorbar": {
              "outlinewidth": 0,
              "ticks": ""
             }
            },
            "type": "scatterternary"
           }
          ],
          "surface": [
           {
            "colorbar": {
             "outlinewidth": 0,
             "ticks": ""
            },
            "colorscale": [
             [
              0,
              "#0d0887"
             ],
             [
              0.1111111111111111,
              "#46039f"
             ],
             [
              0.2222222222222222,
              "#7201a8"
             ],
             [
              0.3333333333333333,
              "#9c179e"
             ],
             [
              0.4444444444444444,
              "#bd3786"
             ],
             [
              0.5555555555555556,
              "#d8576b"
             ],
             [
              0.6666666666666666,
              "#ed7953"
             ],
             [
              0.7777777777777778,
              "#fb9f3a"
             ],
             [
              0.8888888888888888,
              "#fdca26"
             ],
             [
              1,
              "#f0f921"
             ]
            ],
            "type": "surface"
           }
          ],
          "table": [
           {
            "cells": {
             "fill": {
              "color": "#EBF0F8"
             },
             "line": {
              "color": "white"
             }
            },
            "header": {
             "fill": {
              "color": "#C8D4E3"
             },
             "line": {
              "color": "white"
             }
            },
            "type": "table"
           }
          ]
         },
         "layout": {
          "annotationdefaults": {
           "arrowcolor": "#2a3f5f",
           "arrowhead": 0,
           "arrowwidth": 1
          },
          "autotypenumbers": "strict",
          "coloraxis": {
           "colorbar": {
            "outlinewidth": 0,
            "ticks": ""
           }
          },
          "colorscale": {
           "diverging": [
            [
             0,
             "#8e0152"
            ],
            [
             0.1,
             "#c51b7d"
            ],
            [
             0.2,
             "#de77ae"
            ],
            [
             0.3,
             "#f1b6da"
            ],
            [
             0.4,
             "#fde0ef"
            ],
            [
             0.5,
             "#f7f7f7"
            ],
            [
             0.6,
             "#e6f5d0"
            ],
            [
             0.7,
             "#b8e186"
            ],
            [
             0.8,
             "#7fbc41"
            ],
            [
             0.9,
             "#4d9221"
            ],
            [
             1,
             "#276419"
            ]
           ],
           "sequential": [
            [
             0,
             "#0d0887"
            ],
            [
             0.1111111111111111,
             "#46039f"
            ],
            [
             0.2222222222222222,
             "#7201a8"
            ],
            [
             0.3333333333333333,
             "#9c179e"
            ],
            [
             0.4444444444444444,
             "#bd3786"
            ],
            [
             0.5555555555555556,
             "#d8576b"
            ],
            [
             0.6666666666666666,
             "#ed7953"
            ],
            [
             0.7777777777777778,
             "#fb9f3a"
            ],
            [
             0.8888888888888888,
             "#fdca26"
            ],
            [
             1,
             "#f0f921"
            ]
           ],
           "sequentialminus": [
            [
             0,
             "#0d0887"
            ],
            [
             0.1111111111111111,
             "#46039f"
            ],
            [
             0.2222222222222222,
             "#7201a8"
            ],
            [
             0.3333333333333333,
             "#9c179e"
            ],
            [
             0.4444444444444444,
             "#bd3786"
            ],
            [
             0.5555555555555556,
             "#d8576b"
            ],
            [
             0.6666666666666666,
             "#ed7953"
            ],
            [
             0.7777777777777778,
             "#fb9f3a"
            ],
            [
             0.8888888888888888,
             "#fdca26"
            ],
            [
             1,
             "#f0f921"
            ]
           ]
          },
          "colorway": [
           "#636efa",
           "#EF553B",
           "#00cc96",
           "#ab63fa",
           "#FFA15A",
           "#19d3f3",
           "#FF6692",
           "#B6E880",
           "#FF97FF",
           "#FECB52"
          ],
          "font": {
           "color": "#2a3f5f"
          },
          "geo": {
           "bgcolor": "white",
           "lakecolor": "white",
           "landcolor": "#E5ECF6",
           "showlakes": true,
           "showland": true,
           "subunitcolor": "white"
          },
          "hoverlabel": {
           "align": "left"
          },
          "hovermode": "closest",
          "mapbox": {
           "style": "light"
          },
          "paper_bgcolor": "white",
          "plot_bgcolor": "#E5ECF6",
          "polar": {
           "angularaxis": {
            "gridcolor": "white",
            "linecolor": "white",
            "ticks": ""
           },
           "bgcolor": "#E5ECF6",
           "radialaxis": {
            "gridcolor": "white",
            "linecolor": "white",
            "ticks": ""
           }
          },
          "scene": {
           "xaxis": {
            "backgroundcolor": "#E5ECF6",
            "gridcolor": "white",
            "gridwidth": 2,
            "linecolor": "white",
            "showbackground": true,
            "ticks": "",
            "zerolinecolor": "white"
           },
           "yaxis": {
            "backgroundcolor": "#E5ECF6",
            "gridcolor": "white",
            "gridwidth": 2,
            "linecolor": "white",
            "showbackground": true,
            "ticks": "",
            "zerolinecolor": "white"
           },
           "zaxis": {
            "backgroundcolor": "#E5ECF6",
            "gridcolor": "white",
            "gridwidth": 2,
            "linecolor": "white",
            "showbackground": true,
            "ticks": "",
            "zerolinecolor": "white"
           }
          },
          "shapedefaults": {
           "line": {
            "color": "#2a3f5f"
           }
          },
          "ternary": {
           "aaxis": {
            "gridcolor": "white",
            "linecolor": "white",
            "ticks": ""
           },
           "baxis": {
            "gridcolor": "white",
            "linecolor": "white",
            "ticks": ""
           },
           "bgcolor": "#E5ECF6",
           "caxis": {
            "gridcolor": "white",
            "linecolor": "white",
            "ticks": ""
           }
          },
          "title": {
           "x": 0.05
          },
          "xaxis": {
           "automargin": true,
           "gridcolor": "white",
           "linecolor": "white",
           "ticks": "",
           "title": {
            "standoff": 15
           },
           "zerolinecolor": "white",
           "zerolinewidth": 2
          },
          "yaxis": {
           "automargin": true,
           "gridcolor": "white",
           "linecolor": "white",
           "ticks": "",
           "title": {
            "standoff": 15
           },
           "zerolinecolor": "white",
           "zerolinewidth": 2
          }
         }
        },
        "xaxis": {
         "anchor": "y",
         "domain": [
          0,
          1
         ],
         "title": {
          "text": "ds"
         }
        },
        "yaxis": {
         "anchor": "x",
         "domain": [
          0,
          1
         ],
         "title": {
          "text": "y"
         }
        }
       }
      }
     },
     "metadata": {},
     "output_type": "display_data"
    }
   ],
   "source": [
    "px.line(data_frame=ril_data,x='ds', y='y', markers='*')"
   ]
  },
  {
   "cell_type": "code",
   "execution_count": 80,
   "metadata": {},
   "outputs": [
    {
     "name": "stderr",
     "output_type": "stream",
     "text": [
      "20:48:10 - cmdstanpy - INFO - Chain [1] start processing\n",
      "20:48:10 - cmdstanpy - INFO - Chain [1] done processing\n"
     ]
    },
    {
     "data": {
      "image/png": "[encoded data removed]",
      "text/plain": [
       "<Figure size 1000x400 with 1 Axes>"
      ]
     },
     "metadata": {},
     "output_type": "display_data"
    }
   ],
   "source": [
    "m = Prophet()\n",
    "m.fit(ril_data)\n",
    "\n",
    "future = m.make_future_dataframe(periods=24)\n",
    "forecast = m.predict(future)\n",
    "\n",
    "fig = m.plot(forecast, figsize=(10, 4))"
   ]
  },
  {
   "cell_type": "code",
   "execution_count": 83,
   "metadata": {},
   "outputs": [],
   "source": [
    "import pandas as pd\n",
    "\n",
    "data = pd.read_excel(\"../../../../Desktop/HOUSIE SONGS EXCEL FILE 90 SONGS.xlsx\")\n",
    "data = data.drop(columns=[\"SR. NO\"])\n",
    "\n",
    "songs = data['SONGS'].to_list()\n",
    "\n",
    "import random\n",
    "\n",
    "def generate_tambola_cards(\n",
    "    num_cards=60,\n",
    "    num_numbers_per_card=12,\n",
    "    num_blanks_per_card=3,\n",
    "    grid_rows=3,\n",
    "    grid_columns=5,\n",
    "    min_number=1,\n",
    "    max_number=90,\n",
    "):\n",
    "    # Calculate total boxes per card\n",
    "    total_boxes_per_card = num_numbers_per_card + num_blanks_per_card\n",
    "\n",
    "    # Generate cards\n",
    "    cards = []\n",
    "    for _ in range(num_cards):\n",
    "        # Generate a list of unique numbers for the card\n",
    "        numbers_on_card = random.sample(\n",
    "            range(min_number, max_number + 1), num_numbers_per_card\n",
    "        )\n",
    "\n",
    "        # Add blanks to the card\n",
    "        blanks_on_card = [\"\" for _ in range(num_blanks_per_card)]\n",
    "        card_content = numbers_on_card + blanks_on_card\n",
    "\n",
    "        # Shuffle the content to randomize the placement of numbers and blanks\n",
    "        random.shuffle(card_content)\n",
    "\n",
    "        # Reshape the content into a 2D grid\n",
    "        card_grid = []\n",
    "\n",
    "        for i in range(0, len(card_content), grid_columns):\n",
    "            cd = card_content[i : i + grid_columns]\n",
    "            card_grid.append([songs[i-1] if isinstance(i, int) else i for i in cd ])\n",
    "            \n",
    "\n",
    "        # Add the card to the list\n",
    "        cards.append(card_grid)\n",
    "\n",
    "    return cards\n",
    "\n",
    "cards = generate_tambola_cards(num_cards=40)"
   ]
  },
  {
   "cell_type": "code",
   "execution_count": null,
   "metadata": {},
   "outputs": [],
   "source": []
  },
  {
   "cell_type": "code",
   "execution_count": 84,
   "metadata": {},
   "outputs": [
    {
     "name": "stdout",
     "output_type": "stream",
     "text": [
      "Card 1:\n",
      "['હર ઘડી બદલ રહી હૈ... કલ હો ના હો', 'કઈ દૂર જબ દિન ઢલ જાય', 'જહાં મેં જાતી હૂ વહી ચલે આતે હો', 'આને વાલા પલ જાને વાલા હૈ (ગોલમાલ)', 'દિલ દીવાના બિન સજના કે...']\n",
      "['નામ રે સબસે બડા તેરા નામ ઓ શેરાવાલી...', 'આજ સે પહેલે આજ સે જ્યાદા...', 'દિન મહિને સાલ ગુજરતે જાયેંગે…', 'આશાઓ કે સાવન મે', '']\n",
      "['', 'જબ કોઈ બાત બિગડ જાયે…', 'કિસી ડિસ્કો મેં જાયે…', 'દિલ તો હે દિલ દિલ કા ઐતબાર…', '']\n",
      "\n",
      "Card 2:\n",
      "['ઇક દિન બીક જાયેગા…', 'આજ સે તેરી સારી ગલીયા મેરી હો ગઈ', '', 'પ્યાર દીવાના હોતા હૈ મસ્તાના હોતા હૈ', 'હર ઘડી બદલ રહી હૈ... કલ હો ના હો']\n",
      "['ચંદન સા બદન... સરસ્વતીચંદ્ર', '', 'આજ સે પહેલે આજ સે જ્યાદા...', 'તુમસે મિલના બાતે કરના અચ્છા લગતા હૈ...', 'જબ કોઈ બાત બિગડ જાયે…']\n",
      "['ભોલી સૂરત દિલ કે ખોટે...', 'તને જાતા જોઈ પનઘટની વાટે…', 'કિસી ડિસ્કો મેં જાયે…', '', 'યે શામ મસ્તાની...']\n",
      "\n",
      "Card 3:\n",
      "['', 'જૂઠ બોલે કૌવા કાટે', 'નામ રે સબસે બડા તેરા નામ ઓ શેરાવાલી...', '', 'ક્યુકી સાસ ભી કભી બહુથી...']\n",
      "['MY_HEART_IS_BEATING…(JULEE)', 'ભોલી સૂરત દિલ કે ખોટે...', 'ઇક દિન બીક જાયેગા…', 'મેરે લિયે તુમ કાફી હો...', 'દિન મહિને સાલ ગુજરતે જાયેંગે…']\n",
      "['પાપા કહેતે હૈ બડા નામ કરેગા', 'દિલ તો હે દિલ દિલ કા ઐતબાર…', 'ગેસોલીના... (English song)', '', 'મોર બની થનગાટ કરે...']\n",
      "\n",
      "Card 4:\n",
      "['સે બઢકર દુનિયામે ન દેખા...', '', 'આજા આજા દિલની ચોડે...ધેન ટેણેન (કમીને)', 'મેરા કર્મા તુ મેરા ધર્મા તુ...', 'ચંદન સા બદન... સરસ્વતીચંદ્ર']\n",
      "['જૂઠ બોલે કૌવા કાટે', 'નયનને બંધ રાખીને', 'બહોત પ્યાર કરતે હૈ તુમકો સનમ... સાજન', 'ઓ મેરે દિલ કે ચૈન...', '']\n",
      "['તેરી ઝલક અસરફી... from પુષ્પા', '', 'મેરે લિયે તુમ કાફી હો...', 'આંખો હી આંખોમે ઇશારા હો ગયા', 'મેં પલ દો પલ કા શાયર હું...']\n",
      "\n",
      "Card 5:\n",
      "['તને જાતા જોઈ પનઘટની વાટે…', '', 'સુન સાયબા સુન પ્યાર કી ધૂન', '', 'ક્યુકી સાસ ભી કભી બહુથી...']\n",
      "['તુમ દિલ કી ધડકન હો...', '', 'આંખો સે દિલ મેં ઉતર કે', 'જબ કોઈ બાત બિગડ જાયે…', 'રોતે હુએ આતે હૈ સબ....']\n",
      "['આશાઓ કે સાવન મે', 'જૂઠ બોલે કૌવા કાટે', 'વાલમ આવોને આવોને... (લવની ભવાઈ)', 'માં તારા આશીર્વાદ મને બહુ ફળ્યા છે…', 'અપને પ્યાર કે સપને સચ હો ગયે']\n",
      "\n",
      "Card 6:\n",
      "['રોતે હુએ આતે હૈ સબ....', 'આને વાલા પલ જાને વાલા હૈ (ગોલમાલ)', '', 'તેરે જેસા યાર કહા કહા એસા યાર...', 'કિસી કી મુસ્કુરાહટો પે નિસાર']\n",
      "['', 'જિંદગી મિલકે બીતા આયેંગે...(સત્તે પે સત્તા)', 'આશાઓ કે સાવન મે', 'કઈ દૂર જબ દિન ઢલ જાય', 'આયે હો મેરી જિંદગીમે તુમ બહાર બન કે']\n",
      "['અપને પ્યાર કે સપને સચ હો ગયે', 'સે બઢકર દુનિયામે ન દેખા...', 'યે શામ મસ્તાની...', 'જિંદગી કી ના તૂટે લડી... પ્યાર કરલે..', '']\n",
      "\n",
      "Card 7:\n",
      "['એ ભાઈ જરા દેખ કે ચલો', 'પલ પલ દિલ કે પાસ તુમ રહેતી હો...', 'રંગીલો મારો ઢોલના...', 'પરદેશીયા યે સચ હૈ પિયા...મિ.નટવરલાલ', '']\n",
      "['તુજે રબને બનાયા કિસ લિયે...', 'ડફલી વાલે ડફલી બજા... સરગમ', '', 'મૈ નિકલા ગડ્ડી લેકે...', 'નયનને બંધ રાખીને']\n",
      "['', 'મેરા કર્મા તુ મેરા ધર્મા તુ...', 'આજ સે પહેલે આજ સે જ્યાદા...', 'રુક જાના નહી તુ કભી હાર કે...', 'મેરા દિલ ભી કીતના પાગલ હૈ....(સાજન)']\n",
      "\n",
      "Card 8:\n",
      "['', 'જબ કોઈ બાત બિગડ જાયે…', 'હર ઘડી બદલ રહી હૈ... કલ હો ના હો', 'તુમ દિલ કી ધડકન હો...', '']\n",
      "['દિલ તો હે દિલ દિલ કા ઐતબાર…', 'પ્યાર દીવાના હોતા હૈ મસ્તાના હોતા હૈ', 'એ ભાઈ જરા દેખ કે ચલો', 'માં તારા આશીર્વાદ મને બહુ ફળ્યા છે…', 'આજ સે તેરી સારી ગલીયા મેરી હો ગઈ']\n",
      "['ભોલી સૂરત દિલ કે ખોટે...', '', 'તેરે જેસા યાર કહા કહા એસા યાર...', 'પલ પલ દિલ કે પાસ તુમ રહેતી હો...', 'ઇક દૂસરે સે કરતે હૈ પ્યાર હમ...(હમ ટાઇટલ)']\n",
      "\n",
      "Card 9:\n",
      "['તેરા સાથ હૈ તો મુજે ક્યા કમી હૈ...', '', 'મેરે પ્યાર કી ઉમર હો ઇતની શરમ', '', 'એ ભાઈ જરા દેખ કે ચલો']\n",
      "['જૂઠ બોલે કૌવા કાટે', 'રુક જાના નહી તુ કભી હાર કે...', 'સુન સાયબા સુન પ્યાર કી ધૂન', 'ગેસોલીના... (English song)', '']\n",
      "['જબ કોઈ બાત બિગડ જાયે…', 'હર ખુશી હો વહાં તું જહાં ભી રહે', 'પલ યે હૈ પ્યાર કે પલ યાદ આયેંગે કલ...', 'રોતે રોતે હસના શીખો...', 'ઇક દૂસરે સે કરતે હૈ પ્યાર હમ...(હમ ટાઇટલ)']\n",
      "\n",
      "Card 10:\n",
      "['ઢોલીડા…(ગંગુબાઈ કાઠીયાવાડી)', 'ગેસોલીના... (English song)', 'પરદેશીયા યે સચ હૈ પિયા...મિ.નટવરલાલ', 'દિલ દીવાના બિન સજના કે...', '']\n",
      "['ઓલ ઈઝ વેલ…', '', 'જૂઠ બોલે કૌવા કાટે', 'જિંદગી હસને ગાને કે લિયે હૈ પલ દો પલ', 'ડફલી વાલે ડફલી બજા... સરગમ']\n",
      "['', 'તુજે રબને બનાયા કિસ લિયે...', 'દિલ તો હે દિલ દિલ કા ઐતબાર…', 'આયે હો મેરી જિંદગીમે તુમ બહાર બન કે', 'મેરા કર્મા તુ મેરા ધર્મા તુ...']\n",
      "\n",
      "Card 11:\n",
      "['આજ સે તેરી સારી ગલીયા મેરી હો ગઈ', '', 'પાપા કહેતે હૈ બડા નામ કરેગા', 'રંગીલો મારો ઢોલના...', '']\n",
      "['', 'નામ રે સબસે બડા તેરા નામ ઓ શેરાવાલી...', 'એ ભાઈ જરા દેખ કે ચલો', 'આંખો સે દિલ મેં ઉતર કે', 'તુમસે મિલના બાતે કરના અચ્છા લગતા હૈ...']\n",
      "['મેરા દિલ ભી કીતના પાગલ હૈ....(સાજન)', 'જબ કોઈ બાત બિગડ જાયે…', 'ઓલ ઈઝ વેલ…', 'મેરે પ્યાર કી ઉમર હો ઇતની શરમ', 'આશાઓ કે સાવન મે']\n",
      "\n",
      "Card 12:\n",
      "['આને વાલા પલ જાને વાલા હૈ (ગોલમાલ)', 'મેં પલ દો પલ કા શાયર હું...', 'અગર તુમ ન હોતે... ટાઇટલ સોંગ', '', 'કિસી ડિસ્કો મેં જાયે…']\n",
      "['યે શામ મસ્તાની...', 'તેરે વાસ્તે ફલક સે મૈ ચાંદ લાઉંગા...', '', 'રોતે હુએ આતે હૈ સબ....', 'રાધા ને શ્યામ મળી જાશે તું જો…']\n",
      "['તેરે મેરે બીચ મેં કૈસા હૈ યે બંધન...', '', 'દિલ દીવાના બિન સજના કે...', 'થોડા હૈ થોડે કી જરૂરત હૈ…', 'છૂ કર મેરે મન કો...યારાના']\n",
      "\n",
      "Card 13:\n",
      "['દિલ દીવાના બિન સજના કે...', 'જૂઠ બોલે કૌવા કાટે', 'જિંદગી મિલકે બીતા આયેંગે...(સત્તે પે સત્તા)', 'ઇક પ્યાર કા નગમાં હૈ…', 'જહાં મેં જાતી હૂ વહી ચલે આતે હો']\n",
      "['', '', 'દિલ તો હે દિલ દિલ કા ઐતબાર…', 'માં તારા આશીર્વાદ મને બહુ ફળ્યા છે…', 'બને ચાહે દુશ્મન.... દોસ્તાના']\n",
      "['હેપ્પી એન્ડીંગ…', '', 'નાચો નાચો ડાન્સ from RRR', 'તેરે મેરે બીચ મેં કૈસા હૈ યે બંધન...', 'ગોતી લો...(ખલાસી)']\n",
      "\n",
      "Card 14:\n",
      "['આયે હો મેરી જિંદગીમે તુમ બહાર બન કે', 'આંખો હી આંખોમે ઇશારા હો ગયા', '', 'આને વાલા પલ જાને વાલા હૈ (ગોલમાલ)', 'સુન સાયબા સુન પ્યાર કી ધૂન']\n",
      "['જય જય શિવ શંકર આજ મૂડ હૈ ભયંકર', 'કઈ દૂર જબ દિન ઢલ જાય', 'આંખો સે દિલ મેં ઉતર કે', '', 'વાલમ આવોને આવોને... (લવની ભવાઈ)']\n",
      "['જિંદગી કી ના તૂટે લડી... પ્યાર કરલે..', '', 'બહોત પ્યાર કરતે હૈ તુમકો સનમ... સાજન', 'મંગલ ભવન અમંગલ હારી...', 'અગર તુમ ન હોતે... ટાઇટલ સોંગ']\n",
      "\n",
      "Card 15:\n",
      "['ૐ શાંતિ ઓમ...(કર્ઝ)', 'એક દુજે કે લિયે... (ટાઇટલ)', 'હેપ્પી એન્ડીંગ…', 'આજ સે તેરી સારી ગલીયા મેરી હો ગઈ', 'યે શામ મસ્તાની...']\n",
      "['જિંદગી કી ના તૂટે લડી... પ્યાર કરલે..', '', '', 'જબ કોઈ બાત બિગડ જાયે…', '']\n",
      "['ગેસોલીના... (English song)', 'દિલ દીવાના બિન સજના કે...', 'તેરી ઝલક અસરફી... from પુષ્પા', 'દિલ હૈ કે માનતા નહી…', 'તને જાતા જોઈ પનઘટની વાટે…']\n",
      "\n",
      "Card 16:\n",
      "['મંગલ ભવન અમંગલ હારી...', 'ઢોલીડા…(ગંગુબાઈ કાઠીયાવાડી)', '', '', 'જય જય શિવ શંકર આજ મૂડ હૈ ભયંકર']\n",
      "['ઇક પ્યાર કા નગમાં હૈ…', 'સ્ટાર પરિવાર (ટાઇટલ સોંગ)', 'તુમ દિલ કી ધડકન હો...', 'તેરી ઝલક અસરફી... from પુષ્પા', 'ચંદન સા બદન... સરસ્વતીચંદ્ર']\n",
      "['મૈ નિકલા ગડ્ડી લેકે...', 'રાધા ને શ્યામ મળી જાશે તું જો…', '', 'મેરા દિલ ભી કીતના પાગલ હૈ....(સાજન)', 'ભોલી સૂરત દિલ કે ખોટે...']\n",
      "\n",
      "Card 17:\n",
      "['એક દુજે કે લિયે... (ટાઇટલ)', 'આજ સે તેરી સારી ગલીયા મેરી હો ગઈ', '', 'જનમ જનમ કા સાથ હૈ તુમ્હારા હમારા', 'પલ યે હૈ પ્યાર કે પલ યાદ આયેંગે કલ...']\n",
      "['અગર તુમ ન હોતે... ટાઇટલ સોંગ', 'દિલ તો હે દિલ દિલ કા ઐતબાર…', 'રંગીલો મારો ઢોલના...', 'થોડા હૈ થોડે કી જરૂરત હૈ…', '']\n",
      "['તેરે મેરે બીચ મેં કૈસા હૈ યે બંધન...', '', 'તુ ઇસ તરહ સે મેરી જીંદગી મે...', 'તેરા સાથ હૈ તો મુજે ક્યા કમી હૈ...', 'સુન સાયબા સુન પ્યાર કી ધૂન']\n",
      "\n",
      "Card 18:\n",
      "['મેરે લિયે તુમ કાફી હો...', 'જૂઠ બોલે કૌવા કાટે', 'કિસી ડિસ્કો મેં જાયે…', 'માં તારા આશીર્વાદ મને બહુ ફળ્યા છે…', 'હેપ્પી એન્ડીંગ…']\n",
      "['', '', 'એ ભાઈ જરા દેખ કે ચલો', 'હર ખુશી હો વહાં તું જહાં ભી રહે', 'રંગીલો મારો ઢોલના...']\n",
      "['તુ ઇસ તરહ સે મેરી જીંદગી મે...', 'યે શામ મસ્તાની...', 'ગોતી લો...(ખલાસી)', 'ઇક દૂસરે સે કરતે હૈ પ્યાર હમ...(હમ ટાઇટલ)', '']\n",
      "\n",
      "Card 19:\n",
      "['જહાં મેં જાતી હૂ વહી ચલે આતે હો', 'આને વાલા પલ જાને વાલા હૈ (ગોલમાલ)', 'ચંદન સા બદન... સરસ્વતીચંદ્ર', 'હર ઘડી બદલ રહી હૈ... કલ હો ના હો', '']\n",
      "['તુમ દિલ કી ધડકન હો...', 'હર ઘડી બદલ રહી હૈ... કલ હો ના હો', 'નયનને બંધ રાખીને', 'આજ સે પહેલે આજ સે જ્યાદા...', 'એક દુજે કે લિયે... (ટાઇટલ)']\n",
      "['વાગ્યો રે ઢોલ ભાઈ વાગ્યો રે ઢોલ…(હેલારો', '', '', 'તુમસે મિલના બાતે કરના અચ્છા લગતા હૈ...', 'રોતે રોતે હસના શીખો...']\n",
      "\n",
      "Card 20:\n",
      "['જબ કોઈ બાત બિગડ જાયે…', 'હર ઘડી બદલ રહી હૈ... કલ હો ના હો', '', 'જિંદગી મિલકે બીતા આયેંગે...(સત્તે પે સત્તા)', 'મૈ નિકલા ગડ્ડી લેકે...']\n",
      "['નાચો નાચો ડાન્સ from RRR', 'તેરા સાથ હૈ તો મુજે ક્યા કમી હૈ...', 'આંખો સે દિલ મેં ઉતર કે', '', 'તેરે વાસ્તે ફલક સે મૈ ચાંદ લાઉંગા...']\n",
      "['સ્ટાર પરિવાર (ટાઇટલ સોંગ)', '', 'સે બઢકર દુનિયામે ન દેખા...', 'પરદેશીયા યે સચ હૈ પિયા...મિ.નટવરલાલ', 'વો કિષ્ના હૈ...']\n",
      "\n",
      "Card 21:\n",
      "['જિંદગી હસને ગાને કે લિયે હૈ પલ દો પલ', 'નાચો નાચો ડાન્સ from RRR', 'તુમ દિલ કી ધડકન હો...', 'આજ સે તેરી સારી ગલીયા મેરી હો ગઈ', 'આજ સે પહેલે આજ સે જ્યાદા...']\n",
      "['જૂઠ બોલે કૌવા કાટે', '', 'એ ભાઈ જરા દેખ કે ચલો', '', '']\n",
      "['વાલમ આવોને આવોને... (લવની ભવાઈ)', 'આજા આજા દિલની ચોડે...ધેન ટેણેન (કમીને)', 'જહાં મેં જાતી હૂ વહી ચલે આતે હો', 'રાધા ને શ્યામ મળી જાશે તું જો…', 'મેરા દિલ ભી કીતના પાગલ હૈ....(સાજન)']\n",
      "\n",
      "Card 22:\n",
      "['અપને પ્યાર કે સપને સચ હો ગયે', 'તેરે જેસા યાર કહા કહા એસા યાર...', 'ડફલી વાલે ડફલી બજા... સરગમ', '', 'ચંદન સા બદન... સરસ્વતીચંદ્ર']\n",
      "['તેરે વાસ્તે ફલક સે મૈ ચાંદ લાઉંગા...', 'હર ખુશી હો વહાં તું જહાં ભી રહે', '', 'માં તારા આશીર્વાદ મને બહુ ફળ્યા છે…', '']\n",
      "['વાગ્યો રે ઢોલ ભાઈ વાગ્યો રે ઢોલ…(હેલારો', 'યે શામ મસ્તાની...', 'ૐ શાંતિ ઓમ...(કર્ઝ)', 'રંગીલો મારો ઢોલના...', 'તેરા સાથ હૈ તો મુજે ક્યા કમી હૈ...']\n",
      "\n",
      "Card 23:\n",
      "['', 'MY_HEART_IS_BEATING…(JULEE)', 'તુમ દિલ કી ધડકન હો...', '', 'જિંદગી કી ના તૂટે લડી... પ્યાર કરલે..']\n",
      "['માં તારા આશીર્વાદ મને બહુ ફળ્યા છે…', 'હર ઘડી બદલ રહી હૈ... કલ હો ના હો', 'પરદેશીયા યે સચ હૈ પિયા...મિ.નટવરલાલ', 'ઓલ ઈઝ વેલ…', '']\n",
      "['ચંદન સા બદન... સરસ્વતીચંદ્ર', 'રાધા ને શ્યામ મળી જાશે તું જો…', 'નામ રે સબસે બડા તેરા નામ ઓ શેરાવાલી...', 'યે શામ મસ્તાની...', 'આજા આજા દિલની ચોડે...ધેન ટેણેન (કમીને)']\n",
      "\n",
      "Card 24:\n",
      "['આંખો હી આંખોમે ઇશારા હો ગયા', 'એક દુજે કે લિયે... (ટાઇટલ)', 'નયનને બંધ રાખીને', 'ૐ શાંતિ ઓમ...(કર્ઝ)', 'છૂ કર મેરે મન કો...યારાના']\n",
      "['', 'સ્ટાર પરિવાર (ટાઇટલ સોંગ)', 'મેં પલ દો પલ કા શાયર હું...', 'એ ભાઈ જરા દેખ કે ચલો', 'મેરે લિયે તુમ કાફી હો...']\n",
      "['રંગીલો મારો ઢોલના...', 'ઇક દિન બીક જાયેગા…', '', '', 'ક્યુકી સાસ ભી કભી બહુથી...']\n",
      "\n",
      "Card 25:\n",
      "['સ્ટાર પરિવાર (ટાઇટલ સોંગ)', 'તુજે રબને બનાયા કિસ લિયે...', '', 'મેરે પ્યાર કી ઉમર હો ઇતની શરમ', 'આંખો સે દિલ મેં ઉતર કે']\n",
      "['હર ઘડી બદલ રહી હૈ... કલ હો ના હો', 'વો કિષ્ના હૈ...', 'વાલમ આવોને આવોને... (લવની ભવાઈ)', 'ઇક દિન બીક જાયેગા…', '']\n",
      "['બને ચાહે દુશ્મન.... દોસ્તાના', 'જનમ જનમ કા સાથ હૈ તુમ્હારા હમારા', 'નયનને બંધ રાખીને', '', 'તને જાતા જોઈ પનઘટની વાટે…']\n",
      "\n",
      "Card 26:\n",
      "['', 'પાપા કહેતે હૈ બડા નામ કરેગા', 'કઈ દૂર જબ દિન ઢલ જાય', 'જબ કોઈ બાત બિગડ જાયે…', 'તેરે વાસ્તે ફલક સે મૈ ચાંદ લાઉંગા...']\n",
      "['એ ભાઈ જરા દેખ કે ચલો', 'તુમ દિલ કી ધડકન હો...', 'પલ યે હૈ પ્યાર કે પલ યાદ આયેંગે કલ...', 'આજા આજા દિલની ચોડે...ધેન ટેણેન (કમીને)', '']\n",
      "['નાચો નાચો ડાન્સ from RRR', 'હર ખુશી હો વહાં તું જહાં ભી રહે', 'નામ રે સબસે બડા તેરા નામ ઓ શેરાવાલી...', '', 'મેં પલ દો પલ કા શાયર હું...']\n",
      "\n",
      "Card 27:\n",
      "['મેં પલ દો પલ કા શાયર હું...', 'યે શામ મસ્તાની...', 'તુમ દિલ કી ધડકન હો...', 'તને જાતા જોઈ પનઘટની વાટે…', 'રોતે હુએ આતે હૈ સબ....']\n",
      "['આજ સે પહેલે આજ સે જ્યાદા...', 'આજ સે તેરી સારી ગલીયા મેરી હો ગઈ', 'અગર તુમ ન હોતે... ટાઇટલ સોંગ', '', '']\n",
      "['', 'કિસી ડિસ્કો મેં જાયે…', 'મોર બની થનગાટ કરે...', 'નાચો નાચો ડાન્સ from RRR', 'ઇક દૂસરે સે કરતે હૈ પ્યાર હમ...(હમ ટાઇટલ)']\n",
      "\n",
      "Card 28:\n",
      "['સ્ટાર પરિવાર (ટાઇટલ સોંગ)', 'દિન મહિને સાલ ગુજરતે જાયેંગે…', 'ભોલી સૂરત દિલ કે ખોટે...', 'ચંદન સા બદન... સરસ્વતીચંદ્ર', '']\n",
      "['મોર બની થનગાટ કરે...', 'તુ ઇસ તરહ સે મેરી જીંદગી મે...', '', 'અગર તુમ ન હોતે... ટાઇટલ સોંગ', 'ગોતી લો...(ખલાસી)']\n",
      "['તેરી ઝલક અસરફી... from પુષ્પા', 'હેપ્પી એન્ડીંગ…', '', 'આંખો હી આંખોમે ઇશારા હો ગયા', 'પાપા કહેતે હૈ બડા નામ કરેગા']\n",
      "\n",
      "Card 29:\n",
      "['', 'અગર તુમ ન હોતે... ટાઇટલ સોંગ', 'તેરી ઝલક અસરફી... from પુષ્પા', 'જનમ જનમ કા સાથ હૈ તુમ્હારા હમારા', 'મોર બની થનગાટ કરે...']\n",
      "['તેરે મેરે બીચ મેં કૈસા હૈ યે બંધન...', 'હર ખુશી હો વહાં તું જહાં ભી રહે', '', 'ગોતી લો...(ખલાસી)', '']\n",
      "['આજ સે પહેલે આજ સે જ્યાદા...', 'જિંદગી મિલકે બીતા આયેંગે...(સત્તે પે સત્તા)', 'રોતે રોતે હસના શીખો...', 'મેરા દિલ ભી કીતના પાગલ હૈ....(સાજન)', 'ઇક દિન બીક જાયેગા…']\n",
      "\n",
      "Card 30:\n",
      "['', 'ઇક દિન બીક જાયેગા…', 'જબ કોઈ બાત બિગડ જાયે…', 'મોર બની થનગાટ કરે...', 'બહોત પ્યાર કરતે હૈ તુમકો સનમ... સાજન']\n",
      "['ૐ શાંતિ ઓમ...(કર્ઝ)', 'વાલમ આવોને આવોને... (લવની ભવાઈ)', 'સ્ટાર પરિવાર (ટાઇટલ સોંગ)', 'ક્યુકી સાસ ભી કભી બહુથી...', 'વાગ્યો રે ઢોલ ભાઈ વાગ્યો રે ઢોલ…(હેલારો']\n",
      "['રુક જાના નહી તુ કભી હાર કે...', 'રોતે હુએ આતે હૈ સબ....', '', '', 'છૂ કર મેરે મન કો...યારાના']\n",
      "\n",
      "Card 31:\n",
      "['છૂ કર મેરે મન કો...યારાના', 'મેં પલ દો પલ કા શાયર હું...', '', 'ચંદન સા બદન... સરસ્વતીચંદ્ર', 'ઇક દિન બીક જાયેગા…']\n",
      "['મેરા કર્મા તુ મેરા ધર્મા તુ...', 'મેરા દિલ ભી કીતના પાગલ હૈ....(સાજન)', 'ઇક પ્યાર કા નગમાં હૈ…', 'મોર બની થનગાટ કરે...', 'રંગીલો મારો ઢોલના...']\n",
      "['', 'જય જય શિવ શંકર આજ મૂડ હૈ ભયંકર', 'ઇક દૂસરે સે કરતે હૈ પ્યાર હમ...(હમ ટાઇટલ)', 'રુક જાના નહી તુ કભી હાર કે...', '']\n",
      "\n",
      "Card 32:\n",
      "['રાધા ને શ્યામ મળી જાશે તું જો…', '', 'આંખો સે દિલ મેં ઉતર કે', '', 'જનમ જનમ કા સાથ હૈ તુમ્હારા હમારા']\n",
      "['નામ રે સબસે બડા તેરા નામ ઓ શેરાવાલી...', 'છૂ કર મેરે મન કો...યારાના', 'આને વાલા પલ જાને વાલા હૈ (ગોલમાલ)', 'ડફલી વાલે ડફલી બજા... સરગમ', 'નાચો નાચો ડાન્સ from RRR']\n",
      "['દિલ તો હે દિલ દિલ કા ઐતબાર…', 'ૐ શાંતિ ઓમ...(કર્ઝ)', 'નયનને બંધ રાખીને', 'વો કિષ્ના હૈ...', '']\n",
      "\n",
      "Card 33:\n",
      "['થોડા હૈ થોડે કી જરૂરત હૈ…', 'રંગીલો મારો ઢોલના...', '', 'MY_HEART_IS_BEATING…(JULEE)', 'વાલમ આવોને આવોને... (લવની ભવાઈ)']\n",
      "['નામ રે સબસે બડા તેરા નામ ઓ શેરાવાલી...', '', 'આજ સે પહેલે આજ સે જ્યાદા...', 'રોતે હુએ આતે હૈ સબ....', 'ઢોલીડા…(ગંગુબાઈ કાઠીયાવાડી)']\n",
      "['કિસી ડિસ્કો મેં જાયે…', '', 'દિલ હૈ કે માનતા નહી…', 'પલ પલ દિલ કે પાસ તુમ રહેતી હો...', 'મૈ નિકલા ગડ્ડી લેકે...']\n",
      "\n",
      "Card 34:\n",
      "['', 'વો કિષ્ના હૈ...', 'ઓલ ઈઝ વેલ…', 'યાદો કિ બારાત નીકલી હૈ...', '']\n",
      "['પરદેશીયા યે સચ હૈ પિયા...મિ.નટવરલાલ', '', 'કિસી ડિસ્કો મેં જાયે…', 'ઇક પ્યાર કા નગમાં હૈ…', 'આજા આજા દિલની ચોડે...ધેન ટેણેન (કમીને)']\n",
      "['રાધા ને શ્યામ મળી જાશે તું જો…', 'દિલ હૈ કે માનતા નહી…', 'દિલ દીવાના બિન સજના કે...', 'મેરા દિલ ભી કીતના પાગલ હૈ....(સાજન)', 'હર ઘડી બદલ રહી હૈ... કલ હો ના હો']\n",
      "\n",
      "Card 35:\n",
      "['ગોતી લો...(ખલાસી)', 'હર ઘડી બદલ રહી હૈ... કલ હો ના હો', 'તેરે જેસા યાર કહા કહા એસા યાર...', 'વાલમ આવોને આવોને... (લવની ભવાઈ)', 'આજા આજા દિલની ચોડે...ધેન ટેણેન (કમીને)']\n",
      "['ૐ શાંતિ ઓમ...(કર્ઝ)', '', 'તુજે રબને બનાયા કિસ લિયે...', '', 'હેપ્પી એન્ડીંગ…']\n",
      "['કિસી ડિસ્કો મેં જાયે…', 'આપ કી નજરો ને સમજા…', 'મંગલ ભવન અમંગલ હારી...', 'રોતે હુએ આતે હૈ સબ....', '']\n",
      "\n",
      "Card 36:\n",
      "['નાચો નાચો ડાન્સ from RRR', 'દિલ હૈ કે માનતા નહી…', 'જિંદગી હસને ગાને કે લિયે હૈ પલ દો પલ', 'જય જય શિવ શંકર આજ મૂડ હૈ ભયંકર', 'બહોત પ્યાર કરતે હૈ તુમકો સનમ... સાજન']\n",
      "['', 'જબ કોઈ બાત બિગડ જાયે…', 'આજા આજા દિલની ચોડે...ધેન ટેણેન (કમીને)', '', 'વાગ્યો રે ઢોલ ભાઈ વાગ્યો રે ઢોલ…(હેલારો']\n",
      "['કઈ દૂર જબ દિન ઢલ જાય', 'પ્યાર દીવાના હોતા હૈ મસ્તાના હોતા હૈ', '', 'બને ચાહે દુશ્મન.... દોસ્તાના', 'હર ઘડી બદલ રહી હૈ... કલ હો ના હો']\n",
      "\n",
      "Card 37:\n",
      "['એ ભાઈ જરા દેખ કે ચલો', 'દિલ હૈ કે માનતા નહી…', 'MY_HEART_IS_BEATING…(JULEE)', 'ૐ શાંતિ ઓમ...(કર્ઝ)', 'પ્યાર દીવાના હોતા હૈ મસ્તાના હોતા હૈ']\n",
      "['', 'નાચો નાચો ડાન્સ from RRR', 'આને વાલા પલ જાને વાલા હૈ (ગોલમાલ)', 'જિંદગી હસને ગાને કે લિયે હૈ પલ દો પલ', 'છૂ કર મેરે મન કો...યારાના']\n",
      "['', 'આપ કી નજરો ને સમજા…', '', 'આયે હો મેરી જિંદગીમે તુમ બહાર બન કે', 'યે શામ મસ્તાની...']\n",
      "\n",
      "Card 38:\n",
      "['આજ સે તેરી સારી ગલીયા મેરી હો ગઈ', 'મેં પલ દો પલ કા શાયર હું...', 'તેરે મેરે બીચ મેં કૈસા હૈ યે બંધન...', 'તને જાતા જોઈ પનઘટની વાટે…', 'યે શામ મસ્તાની...']\n",
      "['', '', '', 'રાધા ને શ્યામ મળી જાશે તું જો…', 'એક દુજે કે લિયે... (ટાઇટલ)']\n",
      "['જહાં મેં જાતી હૂ વહી ચલે આતે હો', 'તેરી ઝલક અસરફી... from પુષ્પા', 'મોર બની થનગાટ કરે...', 'મેરે પ્યાર કી ઉમર હો ઇતની શરમ', 'ક્યુકી સાસ ભી કભી બહુથી...']\n",
      "\n",
      "Card 39:\n",
      "['સુન સાયબા સુન પ્યાર કી ધૂન', 'ગોતી લો...(ખલાસી)', 'હર ઘડી બદલ રહી હૈ... કલ હો ના હો', 'તુજે રબને બનાયા કિસ લિયે...', 'થોડા હૈ થોડે કી જરૂરત હૈ…']\n",
      "['કિસી ડિસ્કો મેં જાયે…', '', 'જિંદગી મિલકે બીતા આયેંગે...(સત્તે પે સત્તા)', 'એક દુજે કે લિયે... (ટાઇટલ)', '']\n",
      "['તેરે મેરે બીચ મેં કૈસા હૈ યે બંધન...', 'MY_HEART_IS_BEATING…(JULEE)', '', 'ગેસોલીના... (English song)', 'રાધા ને શ્યામ મળી જાશે તું જો…']\n",
      "\n",
      "Card 40:\n",
      "['જૂઠ બોલે કૌવા કાટે', '', 'નાચો નાચો ડાન્સ from RRR', 'જય જય શિવ શંકર આજ મૂડ હૈ ભયંકર', 'એ ભાઈ જરા દેખ કે ચલો']\n",
      "['નયનને બંધ રાખીને', 'મંગલ ભવન અમંગલ હારી...', 'આજ સે પહેલે આજ સે જ્યાદા...', 'પરદેશીયા યે સચ હૈ પિયા...મિ.નટવરલાલ', '']\n",
      "['', 'મેં પલ દો પલ કા શાયર હું...', 'ઇક દિન બીક જાયેગા…', 'મોર બની થનગાટ કરે...', 'ક્યુકી સાસ ભી કભી બહુથી...']\n",
      "\n",
      "Card 41:\n",
      "['મેરા કર્મા તુ મેરા ધર્મા તુ...', 'મેરે પ્યાર કી ઉમર હો ઇતની શરમ', 'તુ ઇસ તરહ સે મેરી જીંદગી મે...', 'આપ કી નજરો ને સમજા…', 'ઓ મેરે દિલ કે ચૈન...']\n",
      "['વાગ્યો રે ઢોલ ભાઈ વાગ્યો રે ઢોલ…(હેલારો', 'પલ પલ દિલ કે પાસ તુમ રહેતી હો...', '', 'જનમ જનમ કા સાથ હૈ તુમ્હારા હમારા', 'ભોલી સૂરત દિલ કે ખોટે...']\n",
      "['', '', 'કિસી કી મુસ્કુરાહટો પે નિસાર', 'રંગીલો મારો ઢોલના...', 'ડફલી વાલે ડફલી બજા... સરગમ']\n",
      "\n",
      "Card 42:\n",
      "['ડફલી વાલે ડફલી બજા... સરગમ', 'ગેસોલીના... (English song)', 'એક દુજે કે લિયે... (ટાઇટલ)', 'હર ઘડી બદલ રહી હૈ... કલ હો ના હો', 'અગર તુમ ન હોતે... ટાઇટલ સોંગ']\n",
      "['એ ભાઈ જરા દેખ કે ચલો', 'છૂ કર મેરે મન કો...યારાના', 'રુક જાના નહી તુ કભી હાર કે...', 'તુમસે મિલના બાતે કરના અચ્છા લગતા હૈ...', 'સે બઢકર દુનિયામે ન દેખા...']\n",
      "['', 'MY_HEART_IS_BEATING…(JULEE)', '', '', 'મંગલ ભવન અમંગલ હારી...']\n",
      "\n",
      "Card 43:\n",
      "['નામ રે સબસે બડા તેરા નામ ઓ શેરાવાલી...', 'તુજે રબને બનાયા કિસ લિયે...', 'અપને પ્યાર કે સપને સચ હો ગયે', 'મેરે લિયે તુમ કાફી હો...', 'રોતે રોતે હસના શીખો...']\n",
      "['હર ઘડી બદલ રહી હૈ... કલ હો ના હો', 'મૈ નિકલા ગડ્ડી લેકે...', '', 'કિસી ડિસ્કો મેં જાયે…', 'જિંદગી હસને ગાને કે લિયે હૈ પલ દો પલ']\n",
      "['વો કિષ્ના હૈ...', '', 'સુન સાયબા સુન પ્યાર કી ધૂન', '', 'રાધા ને શ્યામ મળી જાશે તું જો…']\n",
      "\n",
      "Card 44:\n",
      "['મેરે લિયે તુમ કાફી હો...', 'ઢોલીડા…(ગંગુબાઈ કાઠીયાવાડી)', 'દિન મહિને સાલ ગુજરતે જાયેંગે…', 'ઓ મેરે દિલ કે ચૈન...', 'બને ચાહે દુશ્મન.... દોસ્તાના']\n",
      "['અગર તુમ ન હોતે... ટાઇટલ સોંગ', 'રોતે હુએ આતે હૈ સબ....', '', '', 'તુજે રબને બનાયા કિસ લિયે...']\n",
      "['પ્યાર દીવાના હોતા હૈ મસ્તાના હોતા હૈ', 'તેરી ઝલક અસરફી... from પુષ્પા', 'તને જાતા જોઈ પનઘટની વાટે…', '', 'મંગલ ભવન અમંગલ હારી...']\n",
      "\n",
      "Card 45:\n",
      "['મેરા કર્મા તુ મેરા ધર્મા તુ...', 'વાલમ આવોને આવોને... (લવની ભવાઈ)', 'આશાઓ કે સાવન મે', '', 'રોતે હુએ આતે હૈ સબ....']\n",
      "['', 'પ્યાર દીવાના હોતા હૈ મસ્તાના હોતા હૈ', 'મંગલ ભવન અમંગલ હારી...', 'જનમ જનમ કા સાથ હૈ તુમ્હારા હમારા', 'હર ખુશી હો વહાં તું જહાં ભી રહે']\n",
      "['મેં પલ દો પલ કા શાયર હું...', 'બહોત પ્યાર કરતે હૈ તુમકો સનમ... સાજન', 'ભોલી સૂરત દિલ કે ખોટે...', '', 'પાપા કહેતે હૈ બડા નામ કરેગા']\n",
      "\n",
      "Card 46:\n",
      "['તુ ઇસ તરહ સે મેરી જીંદગી મે...', 'અગર તુમ ન હોતે... ટાઇટલ સોંગ', 'વાગ્યો રે ઢોલ ભાઈ વાગ્યો રે ઢોલ…(હેલારો', 'ઇક દૂસરે સે કરતે હૈ પ્યાર હમ...(હમ ટાઇટલ)', 'જિંદગી કી ના તૂટે લડી... પ્યાર કરલે..']\n",
      "['', '', 'પરદેશીયા યે સચ હૈ પિયા...મિ.નટવરલાલ', '', 'યાદો કિ બારાત નીકલી હૈ...']\n",
      "['નયનને બંધ રાખીને', 'મેરે લિયે તુમ કાફી હો...', 'રોતે હુએ આતે હૈ સબ....', 'તેરે વાસ્તે ફલક સે મૈ ચાંદ લાઉંગા...', 'બહોત પ્યાર કરતે હૈ તુમકો સનમ... સાજન']\n",
      "\n",
      "Card 47:\n",
      "['હર ઘડી બદલ રહી હૈ... કલ હો ના હો', 'યે શામ મસ્તાની...', 'વો કિષ્ના હૈ...', 'MY_HEART_IS_BEATING…(JULEE)', '']\n",
      "['', 'મેરા દિલ ભી કીતના પાગલ હૈ....(સાજન)', 'ઓ મેરે દિલ કે ચૈન...', 'માં તારા આશીર્વાદ મને બહુ ફળ્યા છે…', 'મેરે લિયે તુમ કાફી હો...']\n",
      "['મેરા કર્મા તુ મેરા ધર્મા તુ...', '', 'આજ સે તેરી સારી ગલીયા મેરી હો ગઈ', 'તેરે વાસ્તે ફલક સે મૈ ચાંદ લાઉંગા...', 'આંખો હી આંખોમે ઇશારા હો ગયા']\n",
      "\n",
      "Card 48:\n",
      "['રોતે રોતે હસના શીખો...', 'આશાઓ કે સાવન મે', 'મેરે પ્યાર કી ઉમર હો ઇતની શરમ', 'અગર તુમ ન હોતે... ટાઇટલ સોંગ', 'યાદો કિ બારાત નીકલી હૈ...']\n",
      "['હર ઘડી બદલ રહી હૈ... કલ હો ના હો', '', '', 'પ્યાર દીવાના હોતા હૈ મસ્તાના હોતા હૈ', 'MY_HEART_IS_BEATING…(JULEE)']\n",
      "['ચંદન સા બદન... સરસ્વતીચંદ્ર', '', 'આંખો હી આંખોમે ઇશારા હો ગયા', 'તુજે રબને બનાયા કિસ લિયે...', 'આને વાલા પલ જાને વાલા હૈ (ગોલમાલ)']\n",
      "\n",
      "Card 49:\n",
      "['તુજે રબને બનાયા કિસ લિયે...', '', 'ડફલી વાલે ડફલી બજા... સરગમ', 'માં તારા આશીર્વાદ મને બહુ ફળ્યા છે…', 'મેરે લિયે તુમ કાફી હો...']\n",
      "['દિન મહિને સાલ ગુજરતે જાયેંગે…', 'મેરા કર્મા તુ મેરા ધર્મા તુ...', 'હેપ્પી એન્ડીંગ…', 'આજ સે પહેલે આજ સે જ્યાદા...', '']\n",
      "['મંગલ ભવન અમંગલ હારી...', '', 'ગેસોલીના... (English song)', 'ઓલ ઈઝ વેલ…', 'તેરે મેરે બીચ મેં કૈસા હૈ યે બંધન...']\n",
      "\n",
      "Card 50:\n",
      "['મેરા દિલ ભી કીતના પાગલ હૈ....(સાજન)', 'એક દુજે કે લિયે... (ટાઇટલ)', 'ઓલ ઈઝ વેલ…', 'તુમસે મિલના બાતે કરના અચ્છા લગતા હૈ...', 'યે શામ મસ્તાની...']\n",
      "['આજ સે પહેલે આજ સે જ્યાદા...', 'ઢોલીડા…(ગંગુબાઈ કાઠીયાવાડી)', '', 'આંખો સે દિલ મેં ઉતર કે', '']\n",
      "['મંગલ ભવન અમંગલ હારી...', 'ભોલી સૂરત દિલ કે ખોટે...', '', 'તેરા સાથ હૈ તો મુજે ક્યા કમી હૈ...', 'દિલ દીવાના બિન સજના કે...']\n",
      "\n",
      "Card 51:\n",
      "['વાલમ આવોને આવોને... (લવની ભવાઈ)', 'મેરે લિયે તુમ કાફી હો...', 'અપને પ્યાર કે સપને સચ હો ગયે', 'એક દુજે કે લિયે... (ટાઇટલ)', 'તુ ઇસ તરહ સે મેરી જીંદગી મે...']\n",
      "['યે શામ મસ્તાની...', 'તેરા સાથ હૈ તો મુજે ક્યા કમી હૈ...', 'આપ કી નજરો ને સમજા…', '', '']\n",
      "['ડફલી વાલે ડફલી બજા... સરગમ', '', 'તને જાતા જોઈ પનઘટની વાટે…', 'ઇક દિન બીક જાયેગા…', 'મેરે પ્યાર કી ઉમર હો ઇતની શરમ']\n",
      "\n",
      "Card 52:\n",
      "['થોડા હૈ થોડે કી જરૂરત હૈ…', 'આંખો સે દિલ મેં ઉતર કે', 'જહાં મેં જાતી હૂ વહી ચલે આતે હો', 'તેરા સાથ હૈ તો મુજે ક્યા કમી હૈ...', 'જૂઠ બોલે કૌવા કાટે']\n",
      "['મેરે લિયે તુમ કાફી હો...', 'ઓલ ઈઝ વેલ…', 'ઇક પ્યાર કા નગમાં હૈ…', 'MY_HEART_IS_BEATING…(JULEE)', '']\n",
      "['ભોલી સૂરત દિલ કે ખોટે...', '', '', 'વાલમ આવોને આવોને... (લવની ભવાઈ)', 'ઓ મેરે દિલ કે ચૈન...']\n",
      "\n",
      "Card 53:\n",
      "['', 'આને વાલા પલ જાને વાલા હૈ (ગોલમાલ)', 'તને જાતા જોઈ પનઘટની વાટે…', 'જબ કોઈ બાત બિગડ જાયે…', '']\n",
      "['જહાં મેં જાતી હૂ વહી ચલે આતે હો', 'મેરે લિયે તુમ કાફી હો...', 'ૐ શાંતિ ઓમ...(કર્ઝ)', 'તેરી ઝલક અસરફી... from પુષ્પા', 'જિંદગી મિલકે બીતા આયેંગે...(સત્તે પે સત્તા)']\n",
      "['ભોલી સૂરત દિલ કે ખોટે...', 'દિલ હૈ કે માનતા નહી…', 'તેરે જેસા યાર કહા કહા એસા યાર...', '', 'પલ પલ દિલ કે પાસ તુમ રહેતી હો...']\n",
      "\n",
      "Card 54:\n",
      "['આશાઓ કે સાવન મે', 'મંગલ ભવન અમંગલ હારી...', 'જનમ જનમ કા સાથ હૈ તુમ્હારા હમારા', '', 'મેં પલ દો પલ કા શાયર હું...']\n",
      "['', 'મૈ નિકલા ગડ્ડી લેકે...', 'મેરે લિયે તુમ કાફી હો...', 'નયનને બંધ રાખીને', 'તેરી ઝલક અસરફી... from પુષ્પા']\n",
      "['દિલ હૈ કે માનતા નહી…', 'સે બઢકર દુનિયામે ન દેખા...', '', 'MY_HEART_IS_BEATING…(JULEE)', 'આજ સે પહેલે આજ સે જ્યાદા...']\n",
      "\n",
      "Card 55:\n",
      "['હર ઘડી બદલ રહી હૈ... કલ હો ના હો', 'પાપા કહેતે હૈ બડા નામ કરેગા', 'વો કિષ્ના હૈ...', 'જય જય શિવ શંકર આજ મૂડ હૈ ભયંકર', '']\n",
      "['કિસી કી મુસ્કુરાહટો પે નિસાર', 'ભોલી સૂરત દિલ કે ખોટે...', '', 'આંખો હી આંખોમે ઇશારા હો ગયા', 'જબ કોઈ બાત બિગડ જાયે…']\n",
      "['', 'મૈ નિકલા ગડ્ડી લેકે...', 'તુ ઇસ તરહ સે મેરી જીંદગી મે...', 'પલ પલ દિલ કે પાસ તુમ રહેતી હો...', 'બહોત પ્યાર કરતે હૈ તુમકો સનમ... સાજન']\n",
      "\n",
      "Card 56:\n",
      "['તેરે વાસ્તે ફલક સે મૈ ચાંદ લાઉંગા...', 'જિંદગી હસને ગાને કે લિયે હૈ પલ દો પલ', 'મંગલ ભવન અમંગલ હારી...', 'વાગ્યો રે ઢોલ ભાઈ વાગ્યો રે ઢોલ…(હેલારો', 'આશાઓ કે સાવન મે']\n",
      "['બને ચાહે દુશ્મન.... દોસ્તાના', 'હર ખુશી હો વહાં તું જહાં ભી રહે', 'રુક જાના નહી તુ કભી હાર કે...', 'આંખો સે દિલ મેં ઉતર કે', '']\n",
      "['નામ રે સબસે બડા તેરા નામ ઓ શેરાવાલી...', 'ગોતી લો...(ખલાસી)', 'તુમ દિલ કી ધડકન હો...', '', '']\n",
      "\n",
      "Card 57:\n",
      "['મોર બની થનગાટ કરે...', 'દિલ હૈ કે માનતા નહી…', 'ઇક પ્યાર કા નગમાં હૈ…', 'કિસી ડિસ્કો મેં જાયે…', 'તુમસે મિલના બાતે કરના અચ્છા લગતા હૈ...']\n",
      "['ૐ શાંતિ ઓમ...(કર્ઝ)', 'કઈ દૂર જબ દિન ઢલ જાય', 'કિસી કી મુસ્કુરાહટો પે નિસાર', '', '']\n",
      "['સુન સાયબા સુન પ્યાર કી ધૂન', '', 'મંગલ ભવન અમંગલ હારી...', 'યાદો કિ બારાત નીકલી હૈ...', 'ઓ મેરે દિલ કે ચૈન...']\n",
      "\n",
      "Card 58:\n",
      "['તુમ દિલ કી ધડકન હો...', 'નયનને બંધ રાખીને', 'રોતે હુએ આતે હૈ સબ....', '', 'દિલ તો હે દિલ દિલ કા ઐતબાર…']\n",
      "['', 'મંગલ ભવન અમંગલ હારી...', 'બને ચાહે દુશ્મન.... દોસ્તાના', 'આજા આજા દિલની ચોડે...ધેન ટેણેન (કમીને)', 'તને જાતા જોઈ પનઘટની વાટે…']\n",
      "['આને વાલા પલ જાને વાલા હૈ (ગોલમાલ)', 'યાદો કિ બારાત નીકલી હૈ...', 'ગોતી લો...(ખલાસી)', '', 'ઓલ ઈઝ વેલ…']\n",
      "\n",
      "Card 59:\n",
      "['', '', 'પલ યે હૈ પ્યાર કે પલ યાદ આયેંગે કલ...', '', 'યે શામ મસ્તાની...']\n",
      "['મંગલ ભવન અમંગલ હારી...', 'સ્ટાર પરિવાર (ટાઇટલ સોંગ)', 'ડફલી વાલે ડફલી બજા... સરગમ', 'હર ખુશી હો વહાં તું જહાં ભી રહે', 'સે બઢકર દુનિયામે ન દેખા...']\n",
      "['આયે હો મેરી જિંદગીમે તુમ બહાર બન કે', 'યાદો કિ બારાત નીકલી હૈ...', 'અગર તુમ ન હોતે... ટાઇટલ સોંગ', 'તુમસે મિલના બાતે કરના અચ્છા લગતા હૈ...', 'અપને પ્યાર કે સપને સચ હો ગયે']\n",
      "\n",
      "Card 60:\n",
      "['ઇક પ્યાર કા નગમાં હૈ…', '', 'જિંદગી મિલકે બીતા આયેંગે...(સત્તે પે સત્તા)', 'આને વાલા પલ જાને વાલા હૈ (ગોલમાલ)', 'તુજે રબને બનાયા કિસ લિયે...']\n",
      "['મેરે પ્યાર કી ઉમર હો ઇતની શરમ', 'એક દુજે કે લિયે... (ટાઇટલ)', 'તેરા સાથ હૈ તો મુજે ક્યા કમી હૈ...', 'ઓલ ઈઝ વેલ…', '']\n",
      "['બને ચાહે દુશ્મન.... દોસ્તાના', 'હેપ્પી એન્ડીંગ…', '', 'જબ કોઈ બાત બિગડ જાયે…', 'વાગ્યો રે ઢોલ ભાઈ વાગ્યો રે ઢોલ…(હેલારો']\n",
      "\n"
     ]
    }
   ],
   "source": [
    "# Example usage\n",
    "cards = generate_tambola_cards(num_cards=40)\n",
    "# Example usage\n",
    "cards = generate_tambola_cards()\n",
    "for i, card in enumerate(cards):\n",
    "    print(f\"Card {i + 1}:\")\n",
    "    for row in card:\n",
    "        print(row)\n",
    "    print()"
   ]
  },
  {
   "cell_type": "code",
   "execution_count": 10,
   "metadata": {},
   "outputs": [
    {
     "name": "stdout",
     "output_type": "stream",
     "text": [
      "[[51, '', 54, '', ''], [24, 1, 85, 15, 52], [68, 53, 14, 39, 79]]\n"
     ]
    }
   ],
   "source": [
    "print(cards[0])"
   ]
  },
  {
   "cell_type": "code",
   "execution_count": 5,
   "metadata": {},
   "outputs": [
    {
     "data": {
      "text/html": [
       "<div>\n",
       "<style scoped>\n",
       "    .dataframe tbody tr th:only-of-type {\n",
       "        vertical-align: middle;\n",
       "    }\n",
       "\n",
       "    .dataframe tbody tr th {\n",
       "        vertical-align: top;\n",
       "    }\n",
       "\n",
       "    .dataframe thead th {\n",
       "        text-align: right;\n",
       "    }\n",
       "</style>\n",
       "<table border=\"1\" class=\"dataframe\">\n",
       "  <thead>\n",
       "    <tr style=\"text-align: right;\">\n",
       "      <th></th>\n",
       "      <th>SONGS</th>\n",
       "    </tr>\n",
       "  </thead>\n",
       "  <tbody>\n",
       "    <tr>\n",
       "      <th>0</th>\n",
       "      <td>ઇક દૂસરે સે કરતે હૈ પ્યાર હમ...(હમ ટાઇટલ)</td>\n",
       "    </tr>\n",
       "    <tr>\n",
       "      <th>1</th>\n",
       "      <td>આજ સે પહેલે આજ સે જ્યાદા...</td>\n",
       "    </tr>\n",
       "    <tr>\n",
       "      <th>2</th>\n",
       "      <td>આજ સે તેરી સારી ગલીયા મેરી હો ગઈ</td>\n",
       "    </tr>\n",
       "    <tr>\n",
       "      <th>3</th>\n",
       "      <td>આંખો સે દિલ મેં ઉતર કે</td>\n",
       "    </tr>\n",
       "    <tr>\n",
       "      <th>4</th>\n",
       "      <td>તને જાતા જોઈ પનઘટની વાટે…</td>\n",
       "    </tr>\n",
       "    <tr>\n",
       "      <th>...</th>\n",
       "      <td>...</td>\n",
       "    </tr>\n",
       "    <tr>\n",
       "      <th>85</th>\n",
       "      <td>યાદો કિ બારાત નીકલી હૈ...</td>\n",
       "    </tr>\n",
       "    <tr>\n",
       "      <th>86</th>\n",
       "      <td>આજા આજા દિલની ચોડે...ધેન ટેણેન (કમીને)</td>\n",
       "    </tr>\n",
       "    <tr>\n",
       "      <th>87</th>\n",
       "      <td>તુમ દિલ કી ધડકન હો...</td>\n",
       "    </tr>\n",
       "    <tr>\n",
       "      <th>88</th>\n",
       "      <td>દિલ દીવાના બિન સજના કે...</td>\n",
       "    </tr>\n",
       "    <tr>\n",
       "      <th>89</th>\n",
       "      <td>હેપ્પી એન્ડીંગ…</td>\n",
       "    </tr>\n",
       "  </tbody>\n",
       "</table>\n",
       "<p>90 rows × 1 columns</p>\n",
       "</div>"
      ],
      "text/plain": [
       "                                        SONGS\n",
       "0   ઇક દૂસરે સે કરતે હૈ પ્યાર હમ...(હમ ટાઇટલ)\n",
       "1                 આજ સે પહેલે આજ સે જ્યાદા...\n",
       "2            આજ સે તેરી સારી ગલીયા મેરી હો ગઈ\n",
       "3                      આંખો સે દિલ મેં ઉતર કે\n",
       "4                   તને જાતા જોઈ પનઘટની વાટે…\n",
       "..                                        ...\n",
       "85                  યાદો કિ બારાત નીકલી હૈ...\n",
       "86     આજા આજા દિલની ચોડે...ધેન ટેણેન (કમીને)\n",
       "87                      તુમ દિલ કી ધડકન હો...\n",
       "88                  દિલ દીવાના બિન સજના કે...\n",
       "89                            હેપ્પી એન્ડીંગ…\n",
       "\n",
       "[90 rows x 1 columns]"
      ]
     },
     "execution_count": 5,
     "metadata": {},
     "output_type": "execute_result"
    }
   ],
   "source": [
    "data"
   ]
  }
 ],
 "metadata": {
  "kernelspec": {
   "display_name": "venv",
   "language": "python",
   "name": "python3"
  },
  "language_info": {
   "codemirror_mode": {
    "name": "ipython",
    "version": 3
   },
   "file_extension": ".py",
   "mimetype": "text/x-python",
   "name": "python",
   "nbconvert_exporter": "python",
   "pygments_lexer": "ipython3",
   "version": "3.9.13"
  }
 },
 "nbformat": 4,
 "nbformat_minor": 2
}
